{
 "cells": [
  {
   "cell_type": "markdown",
   "metadata": {},
   "source": [
    "# WeatherPy\n",
    "----\n",
    "\n",
    "#### Note\n",
    "* Instructions have been included for each segment. You do not have to follow them exactly, but they are included to help you think through the steps."
   ]
  },
  {
   "cell_type": "code",
   "execution_count": 185,
   "metadata": {
    "scrolled": true
   },
   "outputs": [],
   "source": [
    "# Dependencies\n",
    "import matplotlib.pyplot as plt\n",
    "import requests\n",
    "from scipy import stats\n",
    "import pandas as pd\n",
    "from config import weather_api_key\n",
    "import time\n",
    "from scipy.stats import linregress"
   ]
  },
  {
   "cell_type": "markdown",
   "metadata": {},
   "source": [
    "## Generate Cities List"
   ]
  },
  {
   "cell_type": "code",
   "execution_count": 155,
   "metadata": {},
   "outputs": [
    {
     "data": {
      "text/html": [
       "<div>\n",
       "<style scoped>\n",
       "    .dataframe tbody tr th:only-of-type {\n",
       "        vertical-align: middle;\n",
       "    }\n",
       "\n",
       "    .dataframe tbody tr th {\n",
       "        vertical-align: top;\n",
       "    }\n",
       "\n",
       "    .dataframe thead th {\n",
       "        text-align: right;\n",
       "    }\n",
       "</style>\n",
       "<table border=\"1\" class=\"dataframe\">\n",
       "  <thead>\n",
       "    <tr style=\"text-align: right;\">\n",
       "      <th></th>\n",
       "      <th>City_ID</th>\n",
       "      <th>City</th>\n",
       "      <th>Cloudiness</th>\n",
       "      <th>Country</th>\n",
       "      <th>Date</th>\n",
       "      <th>Humidity</th>\n",
       "      <th>Lat</th>\n",
       "      <th>Lng</th>\n",
       "      <th>Max Temp</th>\n",
       "      <th>Wind Speed</th>\n",
       "    </tr>\n",
       "  </thead>\n",
       "  <tbody>\n",
       "    <tr>\n",
       "      <th>0</th>\n",
       "      <td>0</td>\n",
       "      <td>ostrovnoy</td>\n",
       "      <td>2</td>\n",
       "      <td>RU</td>\n",
       "      <td>1558378754</td>\n",
       "      <td>72</td>\n",
       "      <td>68.05</td>\n",
       "      <td>39.51</td>\n",
       "      <td>37.50</td>\n",
       "      <td>7.16</td>\n",
       "    </tr>\n",
       "    <tr>\n",
       "      <th>1</th>\n",
       "      <td>1</td>\n",
       "      <td>mahebourg</td>\n",
       "      <td>75</td>\n",
       "      <td>MU</td>\n",
       "      <td>1558378503</td>\n",
       "      <td>74</td>\n",
       "      <td>-20.41</td>\n",
       "      <td>57.70</td>\n",
       "      <td>78.80</td>\n",
       "      <td>11.41</td>\n",
       "    </tr>\n",
       "    <tr>\n",
       "      <th>2</th>\n",
       "      <td>2</td>\n",
       "      <td>qaanaaq</td>\n",
       "      <td>25</td>\n",
       "      <td>GL</td>\n",
       "      <td>1558378755</td>\n",
       "      <td>73</td>\n",
       "      <td>77.48</td>\n",
       "      <td>-69.36</td>\n",
       "      <td>22.20</td>\n",
       "      <td>2.37</td>\n",
       "    </tr>\n",
       "    <tr>\n",
       "      <th>3</th>\n",
       "      <td>3</td>\n",
       "      <td>zhuhai</td>\n",
       "      <td>0</td>\n",
       "      <td>CN</td>\n",
       "      <td>1558378755</td>\n",
       "      <td>39</td>\n",
       "      <td>40.71</td>\n",
       "      <td>112.04</td>\n",
       "      <td>44.60</td>\n",
       "      <td>4.47</td>\n",
       "    </tr>\n",
       "    <tr>\n",
       "      <th>4</th>\n",
       "      <td>4</td>\n",
       "      <td>cape town</td>\n",
       "      <td>20</td>\n",
       "      <td>ZA</td>\n",
       "      <td>1558378755</td>\n",
       "      <td>76</td>\n",
       "      <td>-33.93</td>\n",
       "      <td>18.42</td>\n",
       "      <td>55.99</td>\n",
       "      <td>8.05</td>\n",
       "    </tr>\n",
       "    <tr>\n",
       "      <th>...</th>\n",
       "      <td>...</td>\n",
       "      <td>...</td>\n",
       "      <td>...</td>\n",
       "      <td>...</td>\n",
       "      <td>...</td>\n",
       "      <td>...</td>\n",
       "      <td>...</td>\n",
       "      <td>...</td>\n",
       "      <td>...</td>\n",
       "      <td>...</td>\n",
       "    </tr>\n",
       "    <tr>\n",
       "      <th>543</th>\n",
       "      <td>543</td>\n",
       "      <td>yabrud</td>\n",
       "      <td>0</td>\n",
       "      <td>SY</td>\n",
       "      <td>1558378840</td>\n",
       "      <td>32</td>\n",
       "      <td>33.97</td>\n",
       "      <td>36.66</td>\n",
       "      <td>80.60</td>\n",
       "      <td>8.05</td>\n",
       "    </tr>\n",
       "    <tr>\n",
       "      <th>544</th>\n",
       "      <td>544</td>\n",
       "      <td>paraiso</td>\n",
       "      <td>5</td>\n",
       "      <td>MX</td>\n",
       "      <td>1558378898</td>\n",
       "      <td>4</td>\n",
       "      <td>24.01</td>\n",
       "      <td>-104.61</td>\n",
       "      <td>84.20</td>\n",
       "      <td>16.11</td>\n",
       "    </tr>\n",
       "    <tr>\n",
       "      <th>545</th>\n",
       "      <td>545</td>\n",
       "      <td>veraval</td>\n",
       "      <td>0</td>\n",
       "      <td>FR</td>\n",
       "      <td>1558378898</td>\n",
       "      <td>62</td>\n",
       "      <td>49.65</td>\n",
       "      <td>0.71</td>\n",
       "      <td>61.00</td>\n",
       "      <td>8.05</td>\n",
       "    </tr>\n",
       "    <tr>\n",
       "      <th>546</th>\n",
       "      <td>546</td>\n",
       "      <td>novyy urgal</td>\n",
       "      <td>100</td>\n",
       "      <td>RU</td>\n",
       "      <td>1558378899</td>\n",
       "      <td>93</td>\n",
       "      <td>51.07</td>\n",
       "      <td>132.56</td>\n",
       "      <td>49.74</td>\n",
       "      <td>2.68</td>\n",
       "    </tr>\n",
       "    <tr>\n",
       "      <th>547</th>\n",
       "      <td>547</td>\n",
       "      <td>tongren</td>\n",
       "      <td>4</td>\n",
       "      <td>CN</td>\n",
       "      <td>1558378899</td>\n",
       "      <td>64</td>\n",
       "      <td>27.72</td>\n",
       "      <td>109.18</td>\n",
       "      <td>55.86</td>\n",
       "      <td>2.84</td>\n",
       "    </tr>\n",
       "  </tbody>\n",
       "</table>\n",
       "<p>548 rows × 10 columns</p>\n",
       "</div>"
      ],
      "text/plain": [
       "     City_ID         City  Cloudiness Country        Date  Humidity    Lat  \\\n",
       "0          0    ostrovnoy           2      RU  1558378754        72  68.05   \n",
       "1          1    mahebourg          75      MU  1558378503        74 -20.41   \n",
       "2          2      qaanaaq          25      GL  1558378755        73  77.48   \n",
       "3          3       zhuhai           0      CN  1558378755        39  40.71   \n",
       "4          4    cape town          20      ZA  1558378755        76 -33.93   \n",
       "..       ...          ...         ...     ...         ...       ...    ...   \n",
       "543      543       yabrud           0      SY  1558378840        32  33.97   \n",
       "544      544      paraiso           5      MX  1558378898         4  24.01   \n",
       "545      545      veraval           0      FR  1558378898        62  49.65   \n",
       "546      546  novyy urgal         100      RU  1558378899        93  51.07   \n",
       "547      547      tongren           4      CN  1558378899        64  27.72   \n",
       "\n",
       "        Lng  Max Temp  Wind Speed  \n",
       "0     39.51     37.50        7.16  \n",
       "1     57.70     78.80       11.41  \n",
       "2    -69.36     22.20        2.37  \n",
       "3    112.04     44.60        4.47  \n",
       "4     18.42     55.99        8.05  \n",
       "..      ...       ...         ...  \n",
       "543   36.66     80.60        8.05  \n",
       "544 -104.61     84.20       16.11  \n",
       "545    0.71     61.00        8.05  \n",
       "546  132.56     49.74        2.68  \n",
       "547  109.18     55.86        2.84  \n",
       "\n",
       "[548 rows x 10 columns]"
      ]
     },
     "execution_count": 155,
     "metadata": {},
     "output_type": "execute_result"
    }
   ],
   "source": [
    "# get data file\n",
    "csv_file = \"../output_data/cities.csv\"\n",
    "\n",
    "# Read in the csv file\n",
    "file_df = pd.read_csv(csv_file)\n",
    "file_df"
   ]
  },
  {
   "cell_type": "code",
   "execution_count": 156,
   "metadata": {},
   "outputs": [
    {
     "data": {
      "text/plain": [
       "548"
      ]
     },
     "execution_count": 156,
     "metadata": {},
     "output_type": "execute_result"
    }
   ],
   "source": [
    "cities = file_df[\"City\"]\n",
    "cities.count()"
   ]
  },
  {
   "cell_type": "code",
   "execution_count": 157,
   "metadata": {},
   "outputs": [],
   "source": [
    "city_count = []\n",
    "for x in cities:\n",
    "    city_count.append(x)"
   ]
  },
  {
   "cell_type": "markdown",
   "metadata": {},
   "source": [
    "### Perform API Calls\n",
    "* Perform a weather check on each city using a series of successive API calls.\n",
    "* Include a print log of each city as it'sbeing processed (with the city number and city name).\n"
   ]
  },
  {
   "cell_type": "code",
   "execution_count": 158,
   "metadata": {},
   "outputs": [],
   "source": [
    "#Save config information\n",
    "url = \"http://api.openweathermap.org/data/2.5/weather?\"\n",
    "units = \"metric\""
   ]
  },
  {
   "cell_type": "code",
   "execution_count": 95,
   "metadata": {},
   "outputs": [],
   "source": [
    "# Build query URL\n",
    "query_url = f\"{url}appid={weather_api_key}&units={units}&q=\""
   ]
  },
  {
   "cell_type": "code",
   "execution_count": 96,
   "metadata": {},
   "outputs": [],
   "source": [
    "# set up empty lists to hold reponse info\n",
    "city_name = []\n",
    "lat = []\n",
    "lon = []\n",
    "max_temp = []\n",
    "humidity = []\n",
    "cloudiness = []\n",
    "wind_speed = []\n",
    "country = []\n",
    "date = []"
   ]
  },
  {
   "cell_type": "code",
   "execution_count": 97,
   "metadata": {},
   "outputs": [
    {
     "name": "stdout",
     "output_type": "stream",
     "text": [
      "Beginning Data Retrieval\n",
      "------------------------\n",
      "Processing Record 1 of Set 1 | Ostrovnoy\n",
      "Processing Record 2 of Set 1 | Mahébourg\n",
      "Processing Record 3 of Set 1 | Qaanaaq\n",
      "Processing Record 4 of Set 1 | Zhuhai\n",
      "Processing Record 5 of Set 1 | Cape Town\n",
      "Processing Record 6 of Set 1 | Atuona\n",
      "Processing Record 7 of Set 1 | Flinders\n",
      "Processing Record 8 of Set 1 | Opuwo\n",
      "Processing Record 9 of Set 1 | Tiksi\n",
      "Processing Record 10 of Set 1 | Pushkinskiye Gory\n",
      "Processing Record 11 of Set 1 | Aykhal\n",
      "Processing Record 12 of Set 1 | Castro\n",
      "Processing Record 13 of Set 1 | Avarua\n",
      "Processing Record 14 of Set 1 | Saskylakh\n",
      "Processing Record 15 of Set 1 | Constitución\n",
      "Processing Record 16 of Set 1 | Albany\n",
      "Processing Record 17 of Set 1 | Vilyuysk\n",
      "Processing Record 18 of Set 1 | Ushuaia\n",
      "Processing Record 19 of Set 1 | Bambous Virieux\n",
      "Processing Record 20 of Set 1 | Kodinsk\n",
      "Processing Record 21 of Set 1 | Teknāf\n",
      "Processing Record 22 of Set 1 | Busselton\n",
      "Processing Record 23 of Set 1 | Ambon City\n",
      "Processing Record 24 of Set 1 | Maragogi\n",
      "Processing Record 25 of Set 1 | Fallon\n",
      "Processing Record 26 of Set 1 | Kantang\n",
      "Processing Record 27 of Set 1 | Colonelganj\n",
      "Processing Record 28 of Set 1 | Punta Arenas\n",
      "Processing Record 29 of Set 1 | Rikitea\n",
      "Processing Record 30 of Set 1 | New Norfolk\n",
      "Processing Record 31 of Set 1 | Gobabis\n",
      "Processing Record 32 of Set 1 | Qingdao\n",
      "Processing Record 33 of Set 1 | Port Hardy\n",
      "Processing Record 34 of Set 1 | Arman'\n",
      "Processing Record 35 of Set 1 | Mamakan\n",
      "Processing Record 36 of Set 1 | Bethel\n",
      "Processing Record 37 of Set 1 | Charter Township of Clinton\n",
      "Processing Record 38 of Set 1 | Varhaug\n",
      "Processing Record 39 of Set 1 | Ayan\n",
      "Processing Record 40 of Set 1 | Mayor Pablo Lagerenza\n",
      "Processing Record 41 of Set 1 | Hermanus\n",
      "Processing Record 42 of Set 1 | Torbay\n",
      "Processing Record 43 of Set 1 | Yellowknife\n",
      "Processing Record 44 of Set 1 | Kruisfontein\n",
      "Processing Record 45 of Set 1 | Puerto Ayora\n",
      "Processing Record 46 of Set 1 | Rosita\n",
      "Processing Record 47 of Set 1 | Beloha\n",
      "Processing Record 48 of Set 1 | Port Elizabeth\n",
      "Processing Record 49 of Set 1 | Port Alfred\n",
      "Processing Record 50 of Set 1 | Garchitorena\n",
      "Processing Record 51 of Set 1 | Saint Paul Harbor\n",
      "Processing Record 52 of Set 1 | Mar del Plata\n",
      "Processing Record 53 of Set 1 | Tāybād\n",
      "Processing Record 54 of Set 1 | Cabo San Lucas\n",
      "Processing Record 55 of Set 1 | Tiarei\n",
      "Processing Record 56 of Set 1 | Khatanga\n",
      "Processing Record 57 of Set 1 | Pisco\n",
      "Processing Record 58 of Set 1 | Kolyvan'\n",
      "Processing Record 59 of Set 1 | Hofn\n",
      "Processing Record 60 of Set 1 | Bontang\n",
      "Processing Record 61 of Set 1 | Sault Ste. Marie\n",
      "Processing Record 62 of Set 1 | Zhigansk\n",
      "Processing Record 63 of Set 1 | Thompson\n",
      "Processing Record 64 of Set 1 | Pevek\n",
      "Processing Record 65 of Set 1 | Nanortalik\n",
      "Processing Record 66 of Set 1 | Bilibino\n",
      "Processing Record 67 of Set 1 | Dikson\n",
      "Processing Record 68 of Set 1 | Hambantota\n",
      "Processing Record 69 of Set 1 | Béja\n",
      "Processing Record 70 of Set 1 | Fortuna\n",
      "Processing Record 71 of Set 1 | Ponta do Sol\n",
      "Processing Record 72 of Set 1 | Qasigiannguit\n",
      "Processing Record 73 of Set 1 | Butaritari\n",
      "Processing Record 74 of Set 1 | Virginia Beach\n",
      "Processing Record 75 of Set 1 | Hobyo\n",
      "Processing Record 76 of Set 1 | Saint George\n",
      "Processing Record 77 of Set 1 | Pontes e Lacerda\n",
      "Processing Record 78 of Set 1 | Khor\n",
      "Processing Record 79 of Set 1 | Crotone\n",
      "Processing Record 80 of Set 1 | Bāglung\n",
      "Processing Record 81 of Set 1 | Raglan\n",
      "Processing Record 82 of Set 1 | Jamestown\n",
      "Processing Record 83 of Set 1 | Sur\n",
      "Processing Record 84 of Set 1 | Araouane\n",
      "Processing Record 85 of Set 1 | Emerald\n",
      "Processing Record 86 of Set 1 | Launceston\n",
      "Processing Record 87 of Set 1 | Nikolskoye\n",
      "Processing Record 88 of Set 1 | Ambilobe\n",
      "Processing Record 89 of Set 1 | Cidreira\n",
      "Processing Record 90 of Set 1 | Ternate\n",
      "Processing Record 91 of Set 1 | Tarauacá\n",
      "Processing Record 92 of Set 1 | Bella Vista\n",
      "Processing Record 93 of Set 1 | Xichang\n",
      "Processing Record 94 of Set 1 | Antakya\n",
      "Processing Record 95 of Set 1 | Najrān\n",
      "Processing Record 96 of Set 1 | Agirish\n",
      "Processing Record 97 of Set 1 | Mataura\n",
      "Processing Record 98 of Set 1 | Katsuura\n",
      "Processing Record 99 of Set 1 | Shalinskoye\n",
      "Processing Record 100 of Set 1 | Barrow\n",
      "Processing Record 101 of Set 1 | Sorong\n",
      "Processing Record 102 of Set 1 | Kingston\n",
      "Processing Record 103 of Set 1 | Ketchikan\n",
      "Processing Record 104 of Set 1 | Kapaa\n",
      "Processing Record 105 of Set 1 | Mbigou\n",
      "Processing Record 106 of Set 1 | Yakeshi\n",
      "Processing Record 107 of Set 1 | Hilo\n",
      "Processing Record 108 of Set 1 | Whitehorse\n",
      "Processing Record 109 of Set 1 | Bonthe\n",
      "Processing Record 110 of Set 1 | Bara\n",
      "Processing Record 111 of Set 1 | Lompoc\n",
      "Processing Record 112 of Set 1 | Port Blair\n",
      "Processing Record 113 of Set 1 | Bredasdorp\n",
      "Processing Record 114 of Set 1 | Thinadhoo\n",
      "Processing Record 115 of Set 1 | Koumac\n",
      "Processing Record 116 of Set 1 | Faanui\n",
      "Processing Record 117 of Set 1 | Xam Nua\n",
      "Processing Record 118 of Set 1 | East London\n",
      "Processing Record 119 of Set 1 | São Filipe\n",
      "Processing Record 120 of Set 1 | Deputatsky\n",
      "Processing Record 121 of Set 1 | Chui\n",
      "Processing Record 122 of Set 1 | Sitka\n",
      "Processing Record 123 of Set 1 | Forio\n",
      "Processing Record 124 of Set 1 | Ruska Poliana\n",
      "Processing Record 125 of Set 1 | San Felipe\n",
      "Processing Record 126 of Set 1 | Arraial do Cabo\n",
      "Processing Record 127 of Set 1 | Margate\n",
      "Processing Record 128 of Set 1 | Aklavik\n",
      "Processing Record 129 of Set 1 | Lokosovo\n",
      "Processing Record 130 of Set 1 | Paita\n",
      "Processing Record 131 of Set 1 | Cravo Norte\n",
      "Processing Record 132 of Set 1 | Motygino\n",
      "Processing Record 133 of Set 1 | West Wendover\n",
      "Processing Record 134 of Set 1 | Adrar\n",
      "Processing Record 135 of Set 1 | Melfi\n",
      "Processing Record 136 of Set 1 | Kibaya\n",
      "Processing Record 137 of Set 1 | Iqaluit\n",
      "Processing Record 138 of Set 1 | Lavrentiya\n",
      "Processing Record 139 of Set 1 | Morondava\n",
      "Processing Record 140 of Set 1 | Vaini\n",
      "Processing Record 141 of Set 1 | George Town\n",
      "Processing Record 142 of Set 1 | Sanchazi\n",
      "Processing Record 143 of Set 1 | Sarāi Mīr\n",
      "Processing Record 144 of Set 1 | Yichun\n",
      "Processing Record 145 of Set 1 | Plainview\n",
      "Processing Record 146 of Set 1 | Comodoro Rivadavia\n",
      "Processing Record 147 of Set 1 | Nardaran\n",
      "Processing Record 148 of Set 1 | Nagua\n",
      "Processing Record 149 of Set 1 | Ibrā’\n",
      "Processing Record 150 of Set 1 | Ganzhou\n",
      "Processing Record 151 of Set 1 | Talnakh\n",
      "Processing Record 152 of Set 1 | Coahuayana Viejo\n",
      "Processing Record 153 of Set 1 | Sinnamary\n",
      "Processing Record 154 of Set 1 | Porto-Novo\n",
      "Processing Record 155 of Set 1 | Havøysund\n",
      "Processing Record 156 of Set 1 | Bjørnevatn\n",
      "Processing Record 157 of Set 1 | Narsaq\n",
      "Processing Record 158 of Set 1 | Charlestown\n",
      "Processing Record 159 of Set 1 | Trat\n",
      "Processing Record 160 of Set 1 | Manado\n",
      "Processing Record 161 of Set 1 | Province of Trapani\n",
      "Processing Record 162 of Set 1 | São João da Barra\n",
      "Processing Record 163 of Set 1 | Saint-Philippe\n",
      "Processing Record 164 of Set 1 | Haines Junction\n",
      "Processing Record 165 of Set 1 | Kathmandu\n",
      "Processing Record 166 of Set 1 | Norman Wells\n",
      "Processing Record 167 of Set 1 | Brainerd\n",
      "Processing Record 168 of Set 1 | Yumen\n",
      "Processing Record 169 of Set 1 | Straumen\n",
      "Processing Record 170 of Set 1 | Camacha\n",
      "Processing Record 171 of Set 1 | Teya\n",
      "Processing Record 172 of Set 1 | Vitim\n",
      "Processing Record 173 of Set 1 | Antsohihy\n",
      "Processing Record 174 of Set 1 | Kavieng\n",
      "Processing Record 175 of Set 1 | La Esperanza\n",
      "Processing Record 176 of Set 1 | Clyde River\n",
      "Processing Record 177 of Set 1 | Nador\n",
      "Processing Record 178 of Set 1 | Keflavik\n",
      "Processing Record 179 of Set 1 | Faya\n",
      "Processing Record 180 of Set 1 | Chokurdakh\n",
      "Processing Record 181 of Set 1 | Le Marin\n",
      "Processing Record 182 of Set 1 | Tasiilaq\n",
      "Processing Record 183 of Set 1 | Udachny\n",
      "Processing Record 184 of Set 1 | Monrovia\n",
      "Processing Record 185 of Set 1 | Burnie\n",
      "Processing Record 186 of Set 1 | Kaitangata\n",
      "Processing Record 187 of Set 1 | Yamada\n",
      "Processing Record 188 of Set 1 | Mackay\n",
      "Processing Record 189 of Set 1 | Lagoa\n",
      "Processing Record 190 of Set 1 | Bluff\n",
      "Processing Record 191 of Set 1 | St. George's\n",
      "Processing Record 192 of Set 1 | Naryan-Mar\n",
      "Processing Record 193 of Set 1 | Port Hedland\n",
      "Processing Record 194 of Set 1 | Hithadhoo\n",
      "Processing Record 195 of Set 1 | Beringovskiy\n",
      "Processing Record 196 of Set 1 | Codrington\n",
      "Processing Record 197 of Set 1 | Ilulissat\n",
      "Processing Record 198 of Set 1 | Coquimbo\n",
      "Processing Record 199 of Set 1 | Grand Baie\n",
      "Processing Record 200 of Set 1 | Kaabong\n",
      "Processing Record 201 of Set 1 | Lázaro Cárdenas\n",
      "Processing Record 202 of Set 1 | Luanda\n",
      "Processing Record 203 of Set 1 | Río Gallegos\n",
      "Processing Record 204 of Set 1 | Namatanai\n",
      "Processing Record 205 of Set 1 | Severo-Kuril'sk\n",
      "Processing Record 206 of Set 1 | Hutang\n",
      "Processing Record 207 of Set 1 | Namioka\n",
      "Processing Record 208 of Set 1 | Mnogovershinnyy\n",
      "Processing Record 209 of Set 1 | San Rafael del Sur\n",
      "Processing Record 210 of Set 1 | Paamiut\n",
      "Processing Record 211 of Set 1 | Ribeira Grande\n",
      "Processing Record 212 of Set 1 | Labuhan\n",
      "Processing Record 213 of Set 1 | Mount Gambier\n",
      "Processing Record 214 of Set 1 | Pesca\n",
      "Processing Record 215 of Set 1 | Mount Isa\n",
      "Processing Record 216 of Set 1 | Le Port\n",
      "Processing Record 217 of Set 1 | Hobart\n",
      "Processing Record 218 of Set 1 | Dublin\n",
      "Processing Record 219 of Set 1 | Salalah\n",
      "Processing Record 220 of Set 1 | Beisfjord\n",
      "Processing Record 221 of Set 1 | Ust-Tsilma\n",
      "Processing Record 222 of Set 1 | Marawi\n",
      "Processing Record 223 of Set 1 | Samaná\n",
      "Processing Record 224 of Set 1 | Koronowo\n",
      "Processing Record 225 of Set 1 | Ekimchan\n",
      "Processing Record 226 of Set 1 | Carnarvon\n",
      "Processing Record 227 of Set 1 | Arrondissement de Saint-Denis\n",
      "Processing Record 228 of Set 1 | Tabas\n",
      "Processing Record 229 of Set 1 | City of San Pedro\n",
      "Processing Record 230 of Set 1 | Aketi\n",
      "Processing Record 231 of Set 1 | Moses Lake\n",
      "Processing Record 232 of Set 1 | Mocuba\n",
      "Processing Record 233 of Set 1 | Hamilton\n",
      "Processing Record 234 of Set 1 | San Juan del Sur\n",
      "Processing Record 235 of Set 1 | Katobu\n",
      "Processing Record 236 of Set 1 | Banjar\n",
      "Processing Record 237 of Set 1 | Provideniya\n",
      "Processing Record 238 of Set 1 | Andradas\n",
      "Processing Record 239 of Set 1 | Bose\n",
      "Processing Record 240 of Set 1 | Manzhouli\n",
      "Processing Record 241 of Set 1 | Lockhart\n",
      "Processing Record 242 of Set 1 | Anadyr\n",
      "Processing Record 243 of Set 1 | Bandarbeyla\n",
      "Processing Record 244 of Set 1 | Buchach\n",
      "Processing Record 245 of Set 1 | Pasni\n",
      "Processing Record 246 of Set 1 | Tuktoyaktuk\n",
      "Processing Record 247 of Set 1 | Okha\n",
      "Processing Record 248 of Set 1 | Puerto Escondido\n",
      "Processing Record 249 of Set 1 | Ancud\n",
      "Processing Record 250 of Set 1 | Lebu\n",
      "Processing Record 251 of Set 1 | Port Lincoln\n",
      "Processing Record 252 of Set 1 | Leningradskiy\n",
      "Processing Record 253 of Set 1 | Kajaani\n",
      "Processing Record 254 of Set 1 | Murray Bridge\n",
      "Processing Record 255 of Set 1 | Rocha\n",
      "Processing Record 256 of Set 1 | Tagusao\n",
      "Processing Record 257 of Set 1 | Cobija\n",
      "Processing Record 258 of Set 1 | Port-Gentil\n",
      "Processing Record 259 of Set 1 | Te Anau\n",
      "Processing Record 260 of Set 1 | Kumul\n",
      "Processing Record 261 of Set 1 | Pahrump\n",
      "Processing Record 262 of Set 1 | Fort Frances\n",
      "Processing Record 263 of Set 1 | Mthatha\n",
      "Processing Record 264 of Set 1 | Markova\n",
      "Processing Record 265 of Set 1 | Saint-Leu\n",
      "Processing Record 266 of Set 1 | Jalu\n",
      "Processing Record 267 of Set 1 | Alice Springs\n",
      "Processing Record 268 of Set 1 | Zaraza\n",
      "Processing Record 269 of Set 1 | Dingle\n",
      "Processing Record 270 of Set 1 | Bodden Town\n",
      "Processing Record 271 of Set 1 | Griffith\n",
      "Processing Record 272 of Set 1 | Coyhaique\n",
      "Processing Record 273 of Set 1 | São Félix do Xingu\n",
      "Processing Record 274 of Set 1 | Santa Rosa\n",
      "Processing Record 275 of Set 1 | Goderich\n",
      "Processing Record 276 of Set 1 | Vila Velha\n",
      "Processing Record 277 of Set 1 | Rabo de Peixe\n",
      "Processing Record 278 of Set 1 | Soyo\n",
      "Processing Record 279 of Set 1 | Cayenne\n",
      "Processing Record 280 of Set 1 | Saldanha\n",
      "Processing Record 281 of Set 1 | Santa Inês\n",
      "Processing Record 282 of Set 1 | Hasaki\n",
      "Processing Record 283 of Set 1 | Slave Lake\n",
      "Processing Record 284 of Set 1 | Christchurch\n",
      "Processing Record 285 of Set 1 | Kibakwe\n",
      "Processing Record 286 of Set 1 | Lüderitz\n",
      "Processing Record 287 of Set 1 | San Andrés\n",
      "Processing Record 288 of Set 1 | Pangnirtung\n",
      "Processing Record 289 of Set 1 | San Quintín\n",
      "Processing Record 290 of Set 1 | Union\n",
      "Processing Record 291 of Set 1 | Dudinka\n",
      "Processing Record 292 of Set 1 | Florida\n",
      "Processing Record 293 of Set 1 | Madikeri\n",
      "Processing Record 294 of Set 1 | Esperance\n",
      "Processing Record 295 of Set 1 | Takoradze\n",
      "Processing Record 296 of Set 1 | Lokomotivnyy\n",
      "Processing Record 297 of Set 1 | Khāsh\n",
      "Processing Record 298 of Set 1 | Mogok\n",
      "Processing Record 299 of Set 1 | Mikkeli\n",
      "Processing Record 300 of Set 1 | Jiuquan\n",
      "Processing Record 301 of Set 1 | Betafo\n",
      "Processing Record 302 of Set 1 | Aitape\n",
      "Processing Record 303 of Set 1 | Alofi\n",
      "Processing Record 304 of Set 1 | Yulara\n",
      "Processing Record 305 of Set 1 | Kvarkeno\n",
      "Processing Record 306 of Set 1 | Salinópolis\n",
      "Processing Record 307 of Set 1 | Chunhuhub\n",
      "Processing Record 308 of Set 1 | Dunedin\n",
      "Processing Record 309 of Set 1 | Nioro\n",
      "Processing Record 310 of Set 1 | Upernavik\n",
      "Processing Record 311 of Set 1 | Airai\n",
      "Processing Record 312 of Set 1 | Balkanabat\n",
      "Processing Record 313 of Set 1 | Syumsi\n",
      "Processing Record 314 of Set 1 | Loukhi\n",
      "Processing Record 315 of Set 1 | Baruun-Urt\n",
      "Processing Record 316 of Set 1 | Miraflores\n",
      "Processing Record 317 of Set 1 | Gunjur\n",
      "Processing Record 318 of Set 1 | Wajima\n",
      "Processing Record 319 of Set 1 | Buala\n",
      "Processing Record 320 of Set 1 | Acarí\n",
      "Processing Record 321 of Set 1 | Banfora\n",
      "Processing Record 322 of Set 1 | Mandera\n",
      "Processing Record 323 of Set 1 | Tshikapa\n",
      "Processing Record 324 of Set 1 | Juneau\n",
      "Processing Record 325 of Set 1 | Sydney\n",
      "Processing Record 326 of Set 1 | Edd\n",
      "Processing Record 327 of Set 1 | Cockburn Town\n",
      "Processing Record 328 of Set 1 | Shimokizukuri\n",
      "Processing Record 329 of Set 1 | Vung Tau\n",
      "Processing Record 330 of Set 1 | Mahon\n",
      "Processing Record 331 of Set 1 | Biltine\n",
      "Processing Record 332 of Set 1 | Ishigaki\n",
      "Processing Record 333 of Set 1 | Morant Bay\n",
      "Processing Record 334 of Set 1 | Raduzhny\n",
      "Processing Record 335 of Set 1 | San Patricio\n",
      "Processing Record 336 of Set 1 | Hulan Ergi\n",
      "Processing Record 337 of Set 1 | Thayetmyo\n",
      "Processing Record 338 of Set 1 | Acapulco de Juárez\n",
      "Processing Record 339 of Set 1 | Port Shepstone\n",
      "Processing Record 340 of Set 1 | Tautira\n",
      "Processing Record 341 of Set 1 | La Libertad\n",
      "Processing Record 342 of Set 1 | Raymond\n",
      "Processing Record 343 of Set 1 | Road Town\n",
      "Processing Record 344 of Set 1 | Yar-Sale\n",
      "Processing Record 345 of Set 1 | Iwanai\n",
      "Processing Record 346 of Set 1 | Eséka\n",
      "Processing Record 347 of Set 1 | Chiredzi\n",
      "Processing Record 348 of Set 1 | Tigil'\n",
      "Processing Record 349 of Set 1 | Avera\n",
      "Processing Record 350 of Set 1 | Muzhi\n",
      "Processing Record 351 of Set 1 | Yangi Marg`ilon\n",
      "Processing Record 352 of Set 1 | Chapais\n",
      "Processing Record 353 of Set 1 | Biak\n",
      "Processing Record 354 of Set 1 | Darhan\n",
      "Processing Record 355 of Set 1 | Daru\n",
      "Processing Record 356 of Set 1 | Onokhoy\n",
      "Processing Record 357 of Set 1 | Leh\n",
      "Processing Record 358 of Set 1 | Banda Aceh\n",
      "Processing Record 359 of Set 1 | Alyangula\n",
      "Processing Record 360 of Set 1 | Sørland\n",
      "Processing Record 361 of Set 1 | Fort Nelson\n",
      "Processing Record 362 of Set 1 | Boyolangu\n",
      "Processing Record 363 of Set 1 | Datong\n",
      "Processing Record 364 of Set 1 | Vila Franca do Campo\n",
      "Processing Record 365 of Set 1 | Akureyri\n",
      "Processing Record 366 of Set 1 | Ulladulla\n",
      "Processing Record 367 of Set 1 | Ust'-Barguzin\n",
      "Processing Record 368 of Set 1 | Pampierstad\n",
      "Processing Record 369 of Set 1 | Zyryanovsk\n",
      "Processing Record 370 of Set 1 | Cooma\n",
      "Processing Record 371 of Set 1 | Sfântu Gheorghe\n",
      "Processing Record 372 of Set 1 | Carballo\n",
      "Processing Record 373 of Set 1 | Shimoda\n",
      "Processing Record 374 of Set 1 | Novonukutskiy\n",
      "Processing Record 375 of Set 1 | Reguengos de Monsaraz\n",
      "Processing Record 376 of Set 1 | Ocean City\n",
      "Processing Record 377 of Set 1 | Qinhuangdao\n",
      "Processing Record 378 of Set 1 | Muskegon\n",
      "Processing Record 379 of Set 1 | Kargasok\n",
      "Processing Record 380 of Set 1 | Auki\n",
      "Processing Record 381 of Set 1 | Kayseri Province\n",
      "Processing Record 382 of Set 1 | Quanzhou\n",
      "Processing Record 383 of Set 1 | Nago\n",
      "Processing Record 384 of Set 1 | Medicine Hat\n",
      "Processing Record 385 of Set 1 | Cherskiy\n",
      "Processing Record 386 of Set 1 | Santa Maria\n",
      "Processing Record 387 of Set 1 | North Bend\n",
      "Processing Record 388 of Set 1 | El Alto\n",
      "Processing Record 389 of Set 1 | Geraldton\n",
      "Processing Record 390 of Set 1 | Souillac\n",
      "Processing Record 391 of Set 1 | La Ronge\n",
      "Processing Record 392 of Set 1 | Mossamedes\n",
      "Processing Record 393 of Set 1 | Westport\n",
      "Processing Record 394 of Set 1 | Juiz de Fora\n",
      "Processing Record 395 of Set 1 | Lagos\n",
      "Processing Record 396 of Set 1 | Half Moon Bay\n",
      "Processing Record 397 of Set 1 | Nelson Bay\n",
      "Processing Record 398 of Set 1 | Tuatapere\n",
      "Processing Record 399 of Set 1 | Grindavik\n",
      "Processing Record 400 of Set 1 | Xining\n",
      "Processing Record 401 of Set 1 | Kieta\n",
      "Processing Record 402 of Set 1 | Kalabo\n",
      "Processing Record 403 of Set 1 | Sambava\n",
      "Processing Record 404 of Set 1 | Wawa\n",
      "Processing Record 405 of Set 1 | Manama\n",
      "Processing Record 406 of Set 1 | Labuan\n",
      "Processing Record 407 of Set 1 | Wexford\n",
      "Processing Record 408 of Set 1 | Kyren\n",
      "Processing Record 409 of Set 1 | Boquira\n",
      "Processing Record 410 of Set 1 | Bathsheba\n",
      "Processing Record 411 of Set 1 | Ogbomosho\n",
      "Processing Record 412 of Set 1 | Longyearbyen\n",
      "Processing Record 413 of Set 1 | Diu\n",
      "Processing Record 414 of Set 1 | Shebalino\n",
      "Processing Record 415 of Set 1 | Kalat\n",
      "Processing Record 416 of Set 1 | Hare Bay\n",
      "Processing Record 417 of Set 1 | Kirkuk\n",
      "Processing Record 418 of Set 1 | Tabou\n",
      "Processing Record 419 of Set 1 | Ahipara\n",
      "Processing Record 420 of Set 1 | Byron Bay\n",
      "Processing Record 421 of Set 1 | Isangel\n",
      "Processing Record 422 of Set 1 | Saint-Joseph\n",
      "Processing Record 423 of Set 1 | Susuman\n",
      "Processing Record 424 of Set 1 | Plattling\n",
      "Processing Record 425 of Set 1 | Arenápolis\n",
      "Processing Record 426 of Set 1 | Tocopilla\n",
      "Processing Record 427 of Set 1 | Arroyo de la Encomienda\n",
      "Processing Record 428 of Set 1 | Hastings\n",
      "Processing Record 429 of Set 1 | Okhotsk\n",
      "Processing Record 430 of Set 1 | Maniitsoq\n",
      "Processing Record 431 of Set 1 | Meulaboh\n",
      "Processing Record 432 of Set 1 | Cartagena del Chairá\n",
      "Processing Record 433 of Set 1 | Macao\n",
      "Processing Record 434 of Set 1 | Svodín\n",
      "Processing Record 435 of Set 1 | Hong Kong\n",
      "Processing Record 436 of Set 1 | Don Luan\n",
      "Processing Record 437 of Set 1 | Zaysan\n",
      "Processing Record 438 of Set 1 | Sioux Lookout\n",
      "Processing Record 439 of Set 1 | Waipawa\n",
      "Processing Record 440 of Set 1 | Vila do Maio\n",
      "Processing Record 441 of Set 1 | Brae\n",
      "Processing Record 442 of Set 1 | Russkiy Aktash\n",
      "Processing Record 443 of Set 1 | Kokstad\n",
      "Processing Record 444 of Set 1 | Lucapa\n",
      "Processing Record 445 of Set 1 | Birjand\n",
      "Processing Record 446 of Set 1 | Ingham\n",
      "Processing Record 447 of Set 1 | Henties Bay\n",
      "Processing Record 448 of Set 1 | Tilichiki\n",
      "Processing Record 449 of Set 1 | Doha\n",
      "Processing Record 450 of Set 1 | Makakilo City\n",
      "Processing Record 451 of Set 1 | Lorengau\n",
      "Processing Record 452 of Set 1 | Anan\n",
      "Processing Record 453 of Set 1 | Synya\n",
      "Processing Record 454 of Set 1 | Thanatpin\n",
      "Processing Record 455 of Set 1 | Altagracia de Orituco\n",
      "Processing Record 456 of Set 1 | Anking\n",
      "Processing Record 457 of Set 1 | Nome\n",
      "Processing Record 458 of Set 1 | Lahaina\n",
      "Processing Record 459 of Set 1 | Hereford\n",
      "Processing Record 460 of Set 1 | Orán\n",
      "Processing Record 461 of Set 1 | Manuk Mangkaw\n",
      "Processing Record 462 of Set 1 | Prainha\n",
      "Processing Record 463 of Set 1 | Pacific Grove\n",
      "Processing Record 464 of Set 1 | Tam Ky\n",
      "Processing Record 465 of Set 1 | Atasū\n",
      "Processing Record 466 of Set 1 | Seshcha\n",
      "Processing Record 467 of Set 1 | Noril'sk\n",
      "Processing Record 468 of Set 1 | Los Teques\n",
      "Processing Record 469 of Set 1 | San Cristobal\n",
      "Processing Record 470 of Set 1 | San Ramon\n",
      "Processing Record 471 of Set 1 | Horta\n",
      "Processing Record 472 of Set 1 | Poum\n",
      "Processing Record 473 of Set 1 | Sawtell\n",
      "Processing Record 474 of Set 1 | Seoul\n",
      "Processing Record 475 of Set 1 | Plettenberg Bay\n",
      "Processing Record 476 of Set 1 | Oranjestad\n",
      "Processing Record 477 of Set 1 | Belmonte\n",
      "Processing Record 478 of Set 1 | Bundaberg\n",
      "Processing Record 479 of Set 1 | Samarinda\n",
      "Processing Record 480 of Set 1 | Zhezkazgan\n",
      "Processing Record 481 of Set 1 | Abonnema\n",
      "Processing Record 482 of Set 1 | Narok\n",
      "Processing Record 483 of Set 1 | Muravlenko\n",
      "Processing Record 484 of Set 1 | Necochea\n",
      "Processing Record 485 of Set 1 | Talcahuano\n",
      "Processing Record 486 of Set 1 | San-Pédro\n",
      "Processing Record 487 of Set 1 | Bismarck\n",
      "Processing Record 488 of Set 1 | Pinotepa de Don Luis\n",
      "Processing Record 489 of Set 1 | Mīzan Teferī\n",
      "Processing Record 490 of Set 1 | Bonfim\n",
      "Processing Record 491 of Set 1 | Oga\n",
      "Processing Record 492 of Set 1 | Bouca\n",
      "Processing Record 493 of Set 1 | Bolobo\n",
      "Processing Record 494 of Set 1 | Nuuk\n",
      "Processing Record 495 of Set 1 | Baylo\n",
      "Processing Record 496 of Set 1 | Fuxin\n",
      "Processing Record 497 of Set 1 | Chërnaya Kholunitsa\n",
      "Processing Record 498 of Set 1 | Havelock\n",
      "Processing Record 499 of Set 1 | Traverse City\n",
      "Processing Record 500 of Set 1 | Champotón\n",
      "Processing Record 501 of Set 1 | Mandalgovi\n",
      "Processing Record 502 of Set 1 | Delémont\n",
      "Processing Record 503 of Set 1 | Chauk\n",
      "Processing Record 504 of Set 1 | Kambove\n",
      "Processing Record 505 of Set 1 | Tutóia\n",
      "Processing Record 506 of Set 1 | Touros\n",
      "Processing Record 507 of Set 1 | Babati\n",
      "Processing Record 508 of Set 1 | Graaff-Reinet\n",
      "Processing Record 509 of Set 1 | Noumea\n",
      "Processing Record 510 of Set 1 | Pilot Butte\n",
      "Processing Record 511 of Set 1 | Atar\n",
      "Processing Record 512 of Set 1 | Valença do Piauí\n",
      "Processing Record 513 of Set 1 | Natchez\n",
      "Processing Record 514 of Set 1 | Denpasar\n",
      "Processing Record 515 of Set 1 | Loikaw\n",
      "Processing Record 516 of Set 1 | Madaoua\n",
      "Processing Record 517 of Set 1 | Malindi\n",
      "Processing Record 518 of Set 1 | Along\n",
      "Processing Record 519 of Set 1 | Bonito\n",
      "Processing Record 520 of Set 1 | Saint Anthony\n",
      "Processing Record 521 of Set 1 | High Prairie\n",
      "Processing Record 522 of Set 1 | High Rock\n",
      "Processing Record 523 of Set 1 | Raudeberg\n",
      "Processing Record 524 of Set 1 | Kununurra\n",
      "Processing Record 525 of Set 1 | Mogadishu\n",
      "Processing Record 526 of Set 1 | Makkah al Mukarramah\n",
      "Processing Record 527 of Set 1 | Viedma\n",
      "Processing Record 528 of Set 1 | Tomatlán\n",
      "Processing Record 529 of Set 1 | Lyuban'\n",
      "Processing Record 530 of Set 1 | Bonavista\n",
      "Processing Record 531 of Set 1 | Hirara\n",
      "Processing Record 532 of Set 1 | Russell\n",
      "Processing Record 533 of Set 1 | Burns Lake\n",
      "Processing Record 534 of Set 1 | Hakkâri Province\n",
      "Processing Record 535 of Set 1 | Marzuq\n",
      "Processing Record 536 of Set 1 | Villaviciosa\n",
      "Processing Record 537 of Set 1 | Padang\n",
      "Processing Record 538 of Set 1 | Matam\n",
      "Processing Record 539 of Set 1 | La Seyne-sur-Mer\n",
      "Processing Record 540 of Set 1 | Palu\n",
      "Processing Record 541 of Set 1 | Tal'menka\n",
      "Processing Record 542 of Set 1 | Tamworth\n",
      "Processing Record 543 of Set 1 | Perth\n",
      "Processing Record 544 of Set 1 | Yabrūd\n",
      "Processing Record 545 of Set 1 | Paraíso\n",
      "Processing Record 546 of Set 1 | Verāval\n",
      "Processing Record 547 of Set 1 | Novyy Urgal\n",
      "Processing Record 548 of Set 1 | Tongren\n"
     ]
    }
   ],
   "source": [
    "print(\"Beginning Data Retrieval\")\n",
    "print(\"------------------------\")\n",
    "\n",
    "# set record counter so loop will increase for every output\n",
    "record = 1\n",
    "\n",
    "# Loop through the list of cities and perform a request for data on each city\n",
    "\n",
    "for city in city_count: \n",
    "        response = requests.get(query_url + city).json() \n",
    "        city_name.append(response[\"name\"])\n",
    "        lat.append(response[\"coord\"][\"lat\"])\n",
    "        lon.append(response[\"coord\"][\"lon\"])\n",
    "        max_temp.append(response[\"main\"][\"temp_max\"])\n",
    "        humidity.append(response[\"main\"][\"humidity\"])\n",
    "        cloudiness.append(response[\"clouds\"][\"all\"])\n",
    "        wind_speed.append(response[\"wind\"][\"speed\"])\n",
    "        country.append(response[\"sys\"][\"country\"])\n",
    "        date.append(response[\"dt\"])\n",
    "        \n",
    "        # create a variable so we can see which city has been processed in the output\n",
    "        output_city = response[\"name\"]\n",
    "\n",
    "        \n",
    "        #print results \n",
    "        print(f\"Processing Record {record} of Set 1 | {output_city}\")\n",
    "\n",
    "        # increase record counter by one \n",
    "        record = record + 1\n",
    "        \n",
    "        # put a sleep timer on the loop so that we do not send too many requests in one go\n",
    "        time.sleep(1)"
   ]
  },
  {
   "cell_type": "markdown",
   "metadata": {},
   "source": [
    "### Convert Raw Data to DataFrame\n",
    "* Export the city data into a .csv.\n",
    "* Display the DataFrame"
   ]
  },
  {
   "cell_type": "code",
   "execution_count": 159,
   "metadata": {},
   "outputs": [
    {
     "data": {
      "text/html": [
       "<div>\n",
       "<style scoped>\n",
       "    .dataframe tbody tr th:only-of-type {\n",
       "        vertical-align: middle;\n",
       "    }\n",
       "\n",
       "    .dataframe tbody tr th {\n",
       "        vertical-align: top;\n",
       "    }\n",
       "\n",
       "    .dataframe thead th {\n",
       "        text-align: right;\n",
       "    }\n",
       "</style>\n",
       "<table border=\"1\" class=\"dataframe\">\n",
       "  <thead>\n",
       "    <tr style=\"text-align: right;\">\n",
       "      <th></th>\n",
       "      <th>City</th>\n",
       "      <th>Latitude</th>\n",
       "      <th>Longitude</th>\n",
       "      <th>Max Temp</th>\n",
       "      <th>Humidity</th>\n",
       "      <th>Cloudiness</th>\n",
       "      <th>Wind Speed</th>\n",
       "      <th>Country</th>\n",
       "      <th>Date</th>\n",
       "    </tr>\n",
       "  </thead>\n",
       "  <tbody>\n",
       "    <tr>\n",
       "      <th>0</th>\n",
       "      <td>Ostrovnoy</td>\n",
       "      <td>68.0531</td>\n",
       "      <td>39.5131</td>\n",
       "      <td>-10.33</td>\n",
       "      <td>95</td>\n",
       "      <td>100</td>\n",
       "      <td>6.69</td>\n",
       "      <td>RU</td>\n",
       "      <td>1611639014</td>\n",
       "    </tr>\n",
       "    <tr>\n",
       "      <th>1</th>\n",
       "      <td>Mahébourg</td>\n",
       "      <td>-20.4081</td>\n",
       "      <td>57.7000</td>\n",
       "      <td>28.00</td>\n",
       "      <td>69</td>\n",
       "      <td>20</td>\n",
       "      <td>1.54</td>\n",
       "      <td>MU</td>\n",
       "      <td>1611639015</td>\n",
       "    </tr>\n",
       "    <tr>\n",
       "      <th>2</th>\n",
       "      <td>Qaanaaq</td>\n",
       "      <td>77.4840</td>\n",
       "      <td>-69.3632</td>\n",
       "      <td>-16.39</td>\n",
       "      <td>65</td>\n",
       "      <td>0</td>\n",
       "      <td>3.56</td>\n",
       "      <td>GL</td>\n",
       "      <td>1611639017</td>\n",
       "    </tr>\n",
       "    <tr>\n",
       "      <th>3</th>\n",
       "      <td>Zhuhai</td>\n",
       "      <td>22.2769</td>\n",
       "      <td>113.5678</td>\n",
       "      <td>26.11</td>\n",
       "      <td>73</td>\n",
       "      <td>20</td>\n",
       "      <td>2.57</td>\n",
       "      <td>CN</td>\n",
       "      <td>1611639003</td>\n",
       "    </tr>\n",
       "    <tr>\n",
       "      <th>4</th>\n",
       "      <td>Cape Town</td>\n",
       "      <td>-33.9258</td>\n",
       "      <td>18.4232</td>\n",
       "      <td>21.11</td>\n",
       "      <td>88</td>\n",
       "      <td>20</td>\n",
       "      <td>6.17</td>\n",
       "      <td>ZA</td>\n",
       "      <td>1611638909</td>\n",
       "    </tr>\n",
       "    <tr>\n",
       "      <th>...</th>\n",
       "      <td>...</td>\n",
       "      <td>...</td>\n",
       "      <td>...</td>\n",
       "      <td>...</td>\n",
       "      <td>...</td>\n",
       "      <td>...</td>\n",
       "      <td>...</td>\n",
       "      <td>...</td>\n",
       "      <td>...</td>\n",
       "    </tr>\n",
       "    <tr>\n",
       "      <th>543</th>\n",
       "      <td>Yabrūd</td>\n",
       "      <td>33.9674</td>\n",
       "      <td>36.6574</td>\n",
       "      <td>2.78</td>\n",
       "      <td>80</td>\n",
       "      <td>0</td>\n",
       "      <td>0.28</td>\n",
       "      <td>SY</td>\n",
       "      <td>1611639647</td>\n",
       "    </tr>\n",
       "    <tr>\n",
       "      <th>544</th>\n",
       "      <td>Paraíso</td>\n",
       "      <td>9.8383</td>\n",
       "      <td>-83.8656</td>\n",
       "      <td>21.00</td>\n",
       "      <td>73</td>\n",
       "      <td>0</td>\n",
       "      <td>5.14</td>\n",
       "      <td>CR</td>\n",
       "      <td>1611639649</td>\n",
       "    </tr>\n",
       "    <tr>\n",
       "      <th>545</th>\n",
       "      <td>Verāval</td>\n",
       "      <td>20.9000</td>\n",
       "      <td>70.3667</td>\n",
       "      <td>24.60</td>\n",
       "      <td>21</td>\n",
       "      <td>0</td>\n",
       "      <td>3.73</td>\n",
       "      <td>IN</td>\n",
       "      <td>1611639350</td>\n",
       "    </tr>\n",
       "    <tr>\n",
       "      <th>546</th>\n",
       "      <td>Novyy Urgal</td>\n",
       "      <td>51.0736</td>\n",
       "      <td>132.5642</td>\n",
       "      <td>-15.58</td>\n",
       "      <td>91</td>\n",
       "      <td>100</td>\n",
       "      <td>0.24</td>\n",
       "      <td>RU</td>\n",
       "      <td>1611639651</td>\n",
       "    </tr>\n",
       "    <tr>\n",
       "      <th>547</th>\n",
       "      <td>Tongren</td>\n",
       "      <td>27.7172</td>\n",
       "      <td>109.1853</td>\n",
       "      <td>7.44</td>\n",
       "      <td>75</td>\n",
       "      <td>100</td>\n",
       "      <td>1.59</td>\n",
       "      <td>CN</td>\n",
       "      <td>1611639652</td>\n",
       "    </tr>\n",
       "  </tbody>\n",
       "</table>\n",
       "<p>548 rows × 9 columns</p>\n",
       "</div>"
      ],
      "text/plain": [
       "            City  Latitude  Longitude  Max Temp  Humidity  Cloudiness  \\\n",
       "0      Ostrovnoy   68.0531    39.5131    -10.33        95         100   \n",
       "1      Mahébourg  -20.4081    57.7000     28.00        69          20   \n",
       "2        Qaanaaq   77.4840   -69.3632    -16.39        65           0   \n",
       "3         Zhuhai   22.2769   113.5678     26.11        73          20   \n",
       "4      Cape Town  -33.9258    18.4232     21.11        88          20   \n",
       "..           ...       ...        ...       ...       ...         ...   \n",
       "543       Yabrūd   33.9674    36.6574      2.78        80           0   \n",
       "544      Paraíso    9.8383   -83.8656     21.00        73           0   \n",
       "545      Verāval   20.9000    70.3667     24.60        21           0   \n",
       "546  Novyy Urgal   51.0736   132.5642    -15.58        91         100   \n",
       "547      Tongren   27.7172   109.1853      7.44        75         100   \n",
       "\n",
       "     Wind Speed Country        Date  \n",
       "0          6.69      RU  1611639014  \n",
       "1          1.54      MU  1611639015  \n",
       "2          3.56      GL  1611639017  \n",
       "3          2.57      CN  1611639003  \n",
       "4          6.17      ZA  1611638909  \n",
       "..          ...     ...         ...  \n",
       "543        0.28      SY  1611639647  \n",
       "544        5.14      CR  1611639649  \n",
       "545        3.73      IN  1611639350  \n",
       "546        0.24      RU  1611639651  \n",
       "547        1.59      CN  1611639652  \n",
       "\n",
       "[548 rows x 9 columns]"
      ]
     },
     "execution_count": 159,
     "metadata": {},
     "output_type": "execute_result"
    }
   ],
   "source": [
    "# Create a dictonary with the stored lists generated\n",
    "weather_dic = {\n",
    "    \"City\": city_name,\n",
    "    \"Latitude\": lat, \n",
    "    \"Longitude\": lon,\n",
    "    \"Max Temp\": max_temp,\n",
    "    \"Humidity\": humidity,\n",
    "    \"Cloudiness\": cloudiness,\n",
    "    \"Wind Speed\": wind_speed,\n",
    "    \"Country\": country,\n",
    "    \"Date\": date    \n",
    "}\n",
    "\n",
    "# Create data frame from dictionary\n",
    "weather_df = pd.DataFrame(weather_dic)\n",
    "weather_df"
   ]
  },
  {
   "cell_type": "code",
   "execution_count": 160,
   "metadata": {},
   "outputs": [],
   "source": [
    "# Save dataframe to CSV\n",
    "weather_df.to_csv(\"../output_data/weather_data.csv\", index = False)"
   ]
  },
  {
   "cell_type": "code",
   "execution_count": 161,
   "metadata": {},
   "outputs": [
    {
     "data": {
      "text/html": [
       "<div>\n",
       "<style scoped>\n",
       "    .dataframe tbody tr th:only-of-type {\n",
       "        vertical-align: middle;\n",
       "    }\n",
       "\n",
       "    .dataframe tbody tr th {\n",
       "        vertical-align: top;\n",
       "    }\n",
       "\n",
       "    .dataframe thead th {\n",
       "        text-align: right;\n",
       "    }\n",
       "</style>\n",
       "<table border=\"1\" class=\"dataframe\">\n",
       "  <thead>\n",
       "    <tr style=\"text-align: right;\">\n",
       "      <th></th>\n",
       "      <th>Latitude</th>\n",
       "      <th>Longitude</th>\n",
       "      <th>Max Temp</th>\n",
       "      <th>Humidity</th>\n",
       "      <th>Cloudiness</th>\n",
       "      <th>Wind Speed</th>\n",
       "      <th>Date</th>\n",
       "    </tr>\n",
       "  </thead>\n",
       "  <tbody>\n",
       "    <tr>\n",
       "      <th>count</th>\n",
       "      <td>548.000000</td>\n",
       "      <td>548.000000</td>\n",
       "      <td>548.000000</td>\n",
       "      <td>548.000000</td>\n",
       "      <td>548.000000</td>\n",
       "      <td>548.000000</td>\n",
       "      <td>5.480000e+02</td>\n",
       "    </tr>\n",
       "    <tr>\n",
       "      <th>mean</th>\n",
       "      <td>19.502709</td>\n",
       "      <td>22.445368</td>\n",
       "      <td>9.913869</td>\n",
       "      <td>72.890511</td>\n",
       "      <td>57.083942</td>\n",
       "      <td>3.543321</td>\n",
       "      <td>1.611639e+09</td>\n",
       "    </tr>\n",
       "    <tr>\n",
       "      <th>std</th>\n",
       "      <td>33.404166</td>\n",
       "      <td>91.906309</td>\n",
       "      <td>18.993292</td>\n",
       "      <td>19.528418</td>\n",
       "      <td>38.412991</td>\n",
       "      <td>2.599439</td>\n",
       "      <td>1.918324e+02</td>\n",
       "    </tr>\n",
       "    <tr>\n",
       "      <th>min</th>\n",
       "      <td>-54.800000</td>\n",
       "      <td>-175.200000</td>\n",
       "      <td>-48.090000</td>\n",
       "      <td>13.000000</td>\n",
       "      <td>0.000000</td>\n",
       "      <td>0.090000</td>\n",
       "      <td>1.611639e+09</td>\n",
       "    </tr>\n",
       "    <tr>\n",
       "      <th>25%</th>\n",
       "      <td>-6.473700</td>\n",
       "      <td>-62.060550</td>\n",
       "      <td>-1.377500</td>\n",
       "      <td>64.000000</td>\n",
       "      <td>20.000000</td>\n",
       "      <td>1.540000</td>\n",
       "      <td>1.611639e+09</td>\n",
       "    </tr>\n",
       "    <tr>\n",
       "      <th>50%</th>\n",
       "      <td>20.880800</td>\n",
       "      <td>25.676700</td>\n",
       "      <td>17.735000</td>\n",
       "      <td>78.000000</td>\n",
       "      <td>73.500000</td>\n",
       "      <td>3.000000</td>\n",
       "      <td>1.611639e+09</td>\n",
       "    </tr>\n",
       "    <tr>\n",
       "      <th>75%</th>\n",
       "      <td>47.892200</td>\n",
       "      <td>108.176850</td>\n",
       "      <td>24.232500</td>\n",
       "      <td>87.000000</td>\n",
       "      <td>94.000000</td>\n",
       "      <td>4.760000</td>\n",
       "      <td>1.611639e+09</td>\n",
       "    </tr>\n",
       "    <tr>\n",
       "      <th>max</th>\n",
       "      <td>78.218600</td>\n",
       "      <td>179.316700</td>\n",
       "      <td>38.330000</td>\n",
       "      <td>100.000000</td>\n",
       "      <td>100.000000</td>\n",
       "      <td>13.890000</td>\n",
       "      <td>1.611640e+09</td>\n",
       "    </tr>\n",
       "  </tbody>\n",
       "</table>\n",
       "</div>"
      ],
      "text/plain": [
       "         Latitude   Longitude    Max Temp    Humidity  Cloudiness  Wind Speed  \\\n",
       "count  548.000000  548.000000  548.000000  548.000000  548.000000  548.000000   \n",
       "mean    19.502709   22.445368    9.913869   72.890511   57.083942    3.543321   \n",
       "std     33.404166   91.906309   18.993292   19.528418   38.412991    2.599439   \n",
       "min    -54.800000 -175.200000  -48.090000   13.000000    0.000000    0.090000   \n",
       "25%     -6.473700  -62.060550   -1.377500   64.000000   20.000000    1.540000   \n",
       "50%     20.880800   25.676700   17.735000   78.000000   73.500000    3.000000   \n",
       "75%     47.892200  108.176850   24.232500   87.000000   94.000000    4.760000   \n",
       "max     78.218600  179.316700   38.330000  100.000000  100.000000   13.890000   \n",
       "\n",
       "               Date  \n",
       "count  5.480000e+02  \n",
       "mean   1.611639e+09  \n",
       "std    1.918324e+02  \n",
       "min    1.611639e+09  \n",
       "25%    1.611639e+09  \n",
       "50%    1.611639e+09  \n",
       "75%    1.611639e+09  \n",
       "max    1.611640e+09  "
      ]
     },
     "execution_count": 161,
     "metadata": {},
     "output_type": "execute_result"
    }
   ],
   "source": [
    "weather_df.describe()"
   ]
  },
  {
   "cell_type": "markdown",
   "metadata": {},
   "source": [
    "## Inspect the data and remove the cities where the humidity > 100%.\n",
    "----\n",
    "Skip this step if there are no cities that have humidity > 100%. "
   ]
  },
  {
   "cell_type": "code",
   "execution_count": 162,
   "metadata": {},
   "outputs": [
    {
     "data": {
      "text/plain": [
       "100"
      ]
     },
     "execution_count": 162,
     "metadata": {},
     "output_type": "execute_result"
    }
   ],
   "source": [
    "# check if there are any values greater than 100\n",
    "weather_df[\"Humidity\"].max()"
   ]
  },
  {
   "cell_type": "markdown",
   "metadata": {},
   "source": [
    "## Plotting the Data\n",
    "* Use proper labeling of the plots using plot titles (including date of analysis) and axes labels.\n",
    "* Save the plotted figures as .pngs."
   ]
  },
  {
   "cell_type": "markdown",
   "metadata": {},
   "source": [
    "## Latitude vs. Temperature Plot"
   ]
  },
  {
   "cell_type": "code",
   "execution_count": 238,
   "metadata": {},
   "outputs": [
    {
     "data": {
      "image/png": "[encoded data removed]",
      "text/plain": [
       "<Figure size 432x288 with 1 Axes>"
      ]
     },
     "metadata": {
      "needs_background": "light"
     },
     "output_type": "display_data"
    },
    {
     "name": "stdout",
     "output_type": "stream",
     "text": [
      "-The max temp gets higher towards the equator (at Latitude 0) and lower away from the equator\n"
     ]
    }
   ],
   "source": [
    "# plot the graph for 26/01/2021\n",
    "plt.scatter(weather_df[\"Latitude\"], weather_df[\"Max Temp\"], marker = \"o\", color = \"teal\", edgecolors='black')\n",
    "\n",
    "# give graph headings\n",
    "plt.title(\"City Latitude vs. Max Temperatures (26/01/2021)\")\n",
    "plt.ylabel(\"Max. Temperature (C)\")\n",
    "plt.xlabel(\"Latitude\")\n",
    "plt.grid()\n",
    "\n",
    "# Show plot\n",
    "plt.show()\n",
    "print(\"-The max temp gets higher towards the equator (at Latitude 0) and lower away from the equator\")"
   ]
  },
  {
   "cell_type": "code",
   "execution_count": 164,
   "metadata": {},
   "outputs": [
    {
     "data": {
      "text/plain": [
       "<Figure size 432x288 with 0 Axes>"
      ]
     },
     "metadata": {},
     "output_type": "display_data"
    }
   ],
   "source": [
    "# Save the figure\n",
    "plt.savefig(\"../Images/temp_vs_latitude.png\")"
   ]
  },
  {
   "cell_type": "markdown",
   "metadata": {},
   "source": [
    "## Latitude vs. Humidity Plot"
   ]
  },
  {
   "cell_type": "code",
   "execution_count": 239,
   "metadata": {},
   "outputs": [
    {
     "data": {
      "image/png": "[encoded data removed]",
      "text/plain": [
       "<Figure size 432x288 with 1 Axes>"
      ]
     },
     "metadata": {
      "needs_background": "light"
     },
     "output_type": "display_data"
    },
    {
     "name": "stdout",
     "output_type": "stream",
     "text": [
      "-Humidity at the equator (at Latitude 0) is generally higher, with more variation in percentage away from the equator.\n",
      "-Above the equator, humidity is generally higher whereas humidity below the equator is spread out\n"
     ]
    }
   ],
   "source": [
    "# plot the graph for 26/01/2021\n",
    "plt.scatter(weather_df[\"Latitude\"], weather_df[\"Humidity\"], marker = \"o\", color = \"purple\", edgecolors='black')\n",
    "\n",
    "# give graph headings\n",
    "plt.title(\"City Latitude vs. Humidity (26/01/2021)\")\n",
    "plt.ylabel(\"Humidity (%)\")\n",
    "plt.xlabel(\"Latitude\")\n",
    "plt.grid()\n",
    "\n",
    "# Show plot\n",
    "plt.show()\n",
    "print(\"-Humidity at the equator (at Latitude 0) is generally higher, with more variation in percentage away from the equator.\")\n",
    "print(\"-Above the equator, humidity is generally higher whereas humidity below the equator is spread out\")"
   ]
  },
  {
   "cell_type": "code",
   "execution_count": 166,
   "metadata": {},
   "outputs": [
    {
     "data": {
      "text/plain": [
       "<Figure size 432x288 with 0 Axes>"
      ]
     },
     "metadata": {},
     "output_type": "display_data"
    }
   ],
   "source": [
    "# Save the figure\n",
    "plt.savefig(\"../Images/humidity_vs_latitude.png\")"
   ]
  },
  {
   "cell_type": "markdown",
   "metadata": {},
   "source": [
    "## Latitude vs. Cloudiness Plot"
   ]
  },
  {
   "cell_type": "code",
   "execution_count": 240,
   "metadata": {},
   "outputs": [
    {
     "data": {
      "image/png": "[encoded data removed]",
      "text/plain": [
       "<Figure size 432x288 with 1 Axes>"
      ]
     },
     "metadata": {
      "needs_background": "light"
     },
     "output_type": "display_data"
    },
    {
     "name": "stdout",
     "output_type": "stream",
     "text": [
      "-Cloudiness is spread out and to the eye there doesn't seem to be much correlation\n"
     ]
    }
   ],
   "source": [
    "# plot the graph for 26/01/2021\n",
    "plt.scatter(weather_df[\"Latitude\"], weather_df[\"Cloudiness\"], marker = \"o\", color = \"orange\", edgecolors='black')\n",
    "\n",
    "# give graph headings\n",
    "plt.title(\"City Latitude vs. Cloudiness (26/01/2021)\")\n",
    "plt.ylabel(\"Cloudiness (%)\")\n",
    "plt.xlabel(\"Latitude\")\n",
    "plt.grid()\n",
    "\n",
    "# Show plot\n",
    "plt.show()\n",
    "print(\"-Cloudiness is spread out and to the eye there doesn't seem to be much correlation\")"
   ]
  },
  {
   "cell_type": "code",
   "execution_count": 168,
   "metadata": {},
   "outputs": [
    {
     "data": {
      "text/plain": [
       "<Figure size 432x288 with 0 Axes>"
      ]
     },
     "metadata": {},
     "output_type": "display_data"
    }
   ],
   "source": [
    "# Save the figure\n",
    "plt.savefig(\"../Images/cloudiness_vs_latitude.png\")"
   ]
  },
  {
   "cell_type": "markdown",
   "metadata": {},
   "source": [
    "## Latitude vs. Wind Speed Plot"
   ]
  },
  {
   "cell_type": "code",
   "execution_count": 241,
   "metadata": {},
   "outputs": [
    {
     "data": {
      "image/png": "[encoded data removed]",
      "text/plain": [
       "<Figure size 432x288 with 1 Axes>"
      ]
     },
     "metadata": {
      "needs_background": "light"
     },
     "output_type": "display_data"
    },
    {
     "name": "stdout",
     "output_type": "stream",
     "text": [
      "-Higher and slightly lower windspeeds are recorded moving further away from the equator\n"
     ]
    }
   ],
   "source": [
    "# plot the graph for 26/01/2021\n",
    "plt.scatter(weather_df[\"Latitude\"], weather_df[\"Wind Speed\"], marker = \"o\", color = \"cyan\", edgecolors='black')\n",
    "\n",
    "# give graph headings\n",
    "plt.title(\"City Latitude vs. Wind Speed (26/01/2021)\")\n",
    "plt.ylabel(\"Wind Speed (mps)\")\n",
    "plt.xlabel(\"Latitude\")\n",
    "plt.grid()\n",
    "\n",
    "# Show plot\n",
    "plt.show()\n",
    "print(\"-Higher and slightly lower windspeeds are recorded moving further away from the equator\")"
   ]
  },
  {
   "cell_type": "code",
   "execution_count": 170,
   "metadata": {},
   "outputs": [
    {
     "data": {
      "text/plain": [
       "<Figure size 432x288 with 0 Axes>"
      ]
     },
     "metadata": {},
     "output_type": "display_data"
    }
   ],
   "source": [
    "# Save the figure\n",
    "plt.savefig(\"../Images/windspeed_vs_latitude.png\")"
   ]
  },
  {
   "cell_type": "markdown",
   "metadata": {},
   "source": [
    "## Linear Regression"
   ]
  },
  {
   "cell_type": "code",
   "execution_count": 174,
   "metadata": {},
   "outputs": [],
   "source": [
    "# create new data frame for northern hemisphere\n",
    "north_df = weather_df"
   ]
  },
  {
   "cell_type": "code",
   "execution_count": 188,
   "metadata": {},
   "outputs": [
    {
     "data": {
      "text/html": [
       "<div>\n",
       "<style scoped>\n",
       "    .dataframe tbody tr th:only-of-type {\n",
       "        vertical-align: middle;\n",
       "    }\n",
       "\n",
       "    .dataframe tbody tr th {\n",
       "        vertical-align: top;\n",
       "    }\n",
       "\n",
       "    .dataframe thead th {\n",
       "        text-align: right;\n",
       "    }\n",
       "</style>\n",
       "<table border=\"1\" class=\"dataframe\">\n",
       "  <thead>\n",
       "    <tr style=\"text-align: right;\">\n",
       "      <th></th>\n",
       "      <th>City</th>\n",
       "      <th>Latitude</th>\n",
       "      <th>Longitude</th>\n",
       "      <th>Max Temp</th>\n",
       "      <th>Humidity</th>\n",
       "      <th>Cloudiness</th>\n",
       "      <th>Wind Speed</th>\n",
       "      <th>Country</th>\n",
       "      <th>Date</th>\n",
       "    </tr>\n",
       "  </thead>\n",
       "  <tbody>\n",
       "    <tr>\n",
       "      <th>0</th>\n",
       "      <td>Ostrovnoy</td>\n",
       "      <td>68.0531</td>\n",
       "      <td>39.5131</td>\n",
       "      <td>-10.33</td>\n",
       "      <td>95</td>\n",
       "      <td>100</td>\n",
       "      <td>6.69</td>\n",
       "      <td>RU</td>\n",
       "      <td>1611639014</td>\n",
       "    </tr>\n",
       "    <tr>\n",
       "      <th>2</th>\n",
       "      <td>Qaanaaq</td>\n",
       "      <td>77.4840</td>\n",
       "      <td>-69.3632</td>\n",
       "      <td>-16.39</td>\n",
       "      <td>65</td>\n",
       "      <td>0</td>\n",
       "      <td>3.56</td>\n",
       "      <td>GL</td>\n",
       "      <td>1611639017</td>\n",
       "    </tr>\n",
       "    <tr>\n",
       "      <th>3</th>\n",
       "      <td>Zhuhai</td>\n",
       "      <td>22.2769</td>\n",
       "      <td>113.5678</td>\n",
       "      <td>26.11</td>\n",
       "      <td>73</td>\n",
       "      <td>20</td>\n",
       "      <td>2.57</td>\n",
       "      <td>CN</td>\n",
       "      <td>1611639003</td>\n",
       "    </tr>\n",
       "    <tr>\n",
       "      <th>8</th>\n",
       "      <td>Tiksi</td>\n",
       "      <td>71.6872</td>\n",
       "      <td>128.8694</td>\n",
       "      <td>-38.09</td>\n",
       "      <td>82</td>\n",
       "      <td>99</td>\n",
       "      <td>1.90</td>\n",
       "      <td>RU</td>\n",
       "      <td>1611639024</td>\n",
       "    </tr>\n",
       "    <tr>\n",
       "      <th>9</th>\n",
       "      <td>Pushkinskiye Gory</td>\n",
       "      <td>57.0209</td>\n",
       "      <td>28.9103</td>\n",
       "      <td>2.59</td>\n",
       "      <td>95</td>\n",
       "      <td>100</td>\n",
       "      <td>4.03</td>\n",
       "      <td>RU</td>\n",
       "      <td>1611639025</td>\n",
       "    </tr>\n",
       "    <tr>\n",
       "      <th>...</th>\n",
       "      <td>...</td>\n",
       "      <td>...</td>\n",
       "      <td>...</td>\n",
       "      <td>...</td>\n",
       "      <td>...</td>\n",
       "      <td>...</td>\n",
       "      <td>...</td>\n",
       "      <td>...</td>\n",
       "      <td>...</td>\n",
       "    </tr>\n",
       "    <tr>\n",
       "      <th>543</th>\n",
       "      <td>Yabrūd</td>\n",
       "      <td>33.9674</td>\n",
       "      <td>36.6574</td>\n",
       "      <td>2.78</td>\n",
       "      <td>80</td>\n",
       "      <td>0</td>\n",
       "      <td>0.28</td>\n",
       "      <td>SY</td>\n",
       "      <td>1611639647</td>\n",
       "    </tr>\n",
       "    <tr>\n",
       "      <th>544</th>\n",
       "      <td>Paraíso</td>\n",
       "      <td>9.8383</td>\n",
       "      <td>-83.8656</td>\n",
       "      <td>21.00</td>\n",
       "      <td>73</td>\n",
       "      <td>0</td>\n",
       "      <td>5.14</td>\n",
       "      <td>CR</td>\n",
       "      <td>1611639649</td>\n",
       "    </tr>\n",
       "    <tr>\n",
       "      <th>545</th>\n",
       "      <td>Verāval</td>\n",
       "      <td>20.9000</td>\n",
       "      <td>70.3667</td>\n",
       "      <td>24.60</td>\n",
       "      <td>21</td>\n",
       "      <td>0</td>\n",
       "      <td>3.73</td>\n",
       "      <td>IN</td>\n",
       "      <td>1611639350</td>\n",
       "    </tr>\n",
       "    <tr>\n",
       "      <th>546</th>\n",
       "      <td>Novyy Urgal</td>\n",
       "      <td>51.0736</td>\n",
       "      <td>132.5642</td>\n",
       "      <td>-15.58</td>\n",
       "      <td>91</td>\n",
       "      <td>100</td>\n",
       "      <td>0.24</td>\n",
       "      <td>RU</td>\n",
       "      <td>1611639651</td>\n",
       "    </tr>\n",
       "    <tr>\n",
       "      <th>547</th>\n",
       "      <td>Tongren</td>\n",
       "      <td>27.7172</td>\n",
       "      <td>109.1853</td>\n",
       "      <td>7.44</td>\n",
       "      <td>75</td>\n",
       "      <td>100</td>\n",
       "      <td>1.59</td>\n",
       "      <td>CN</td>\n",
       "      <td>1611639652</td>\n",
       "    </tr>\n",
       "  </tbody>\n",
       "</table>\n",
       "<p>379 rows × 9 columns</p>\n",
       "</div>"
      ],
      "text/plain": [
       "                  City  Latitude  Longitude  Max Temp  Humidity  Cloudiness  \\\n",
       "0            Ostrovnoy   68.0531    39.5131    -10.33        95         100   \n",
       "2              Qaanaaq   77.4840   -69.3632    -16.39        65           0   \n",
       "3               Zhuhai   22.2769   113.5678     26.11        73          20   \n",
       "8                Tiksi   71.6872   128.8694    -38.09        82          99   \n",
       "9    Pushkinskiye Gory   57.0209    28.9103      2.59        95         100   \n",
       "..                 ...       ...        ...       ...       ...         ...   \n",
       "543             Yabrūd   33.9674    36.6574      2.78        80           0   \n",
       "544            Paraíso    9.8383   -83.8656     21.00        73           0   \n",
       "545            Verāval   20.9000    70.3667     24.60        21           0   \n",
       "546        Novyy Urgal   51.0736   132.5642    -15.58        91         100   \n",
       "547            Tongren   27.7172   109.1853      7.44        75         100   \n",
       "\n",
       "     Wind Speed Country        Date  \n",
       "0          6.69      RU  1611639014  \n",
       "2          3.56      GL  1611639017  \n",
       "3          2.57      CN  1611639003  \n",
       "8          1.90      RU  1611639024  \n",
       "9          4.03      RU  1611639025  \n",
       "..          ...     ...         ...  \n",
       "543        0.28      SY  1611639647  \n",
       "544        5.14      CR  1611639649  \n",
       "545        3.73      IN  1611639350  \n",
       "546        0.24      RU  1611639651  \n",
       "547        1.59      CN  1611639652  \n",
       "\n",
       "[379 rows x 9 columns]"
      ]
     },
     "execution_count": 188,
     "metadata": {},
     "output_type": "execute_result"
    }
   ],
   "source": [
    "# filter out lattitude rows that are more or equal to 0\n",
    "ncolumns = [\"City\", \"Latitude\", \"Longitude\", \"Max Temp\", \"Humidity\", \"Cloudiness\", \"Wind Speed\", \"Country\", \"Date\"]\n",
    "clean_north_df = north_df[north_df['Latitude'] >= 0][ncolumns]\n",
    "clean_north_df"
   ]
  },
  {
   "cell_type": "code",
   "execution_count": 181,
   "metadata": {},
   "outputs": [],
   "source": [
    "# create new data frame for southern hemisphere\n",
    "south_df = weather_df"
   ]
  },
  {
   "cell_type": "code",
   "execution_count": 196,
   "metadata": {},
   "outputs": [
    {
     "data": {
      "text/html": [
       "<div>\n",
       "<style scoped>\n",
       "    .dataframe tbody tr th:only-of-type {\n",
       "        vertical-align: middle;\n",
       "    }\n",
       "\n",
       "    .dataframe tbody tr th {\n",
       "        vertical-align: top;\n",
       "    }\n",
       "\n",
       "    .dataframe thead th {\n",
       "        text-align: right;\n",
       "    }\n",
       "</style>\n",
       "<table border=\"1\" class=\"dataframe\">\n",
       "  <thead>\n",
       "    <tr style=\"text-align: right;\">\n",
       "      <th></th>\n",
       "      <th>City</th>\n",
       "      <th>Latitude</th>\n",
       "      <th>Longitude</th>\n",
       "      <th>Max Temp</th>\n",
       "      <th>Humidity</th>\n",
       "      <th>Cloudiness</th>\n",
       "      <th>Wind Speed</th>\n",
       "      <th>Country</th>\n",
       "      <th>Date</th>\n",
       "    </tr>\n",
       "  </thead>\n",
       "  <tbody>\n",
       "    <tr>\n",
       "      <th>1</th>\n",
       "      <td>Mahébourg</td>\n",
       "      <td>-20.4081</td>\n",
       "      <td>57.7000</td>\n",
       "      <td>28.00</td>\n",
       "      <td>69</td>\n",
       "      <td>20</td>\n",
       "      <td>1.54</td>\n",
       "      <td>MU</td>\n",
       "      <td>1611639015</td>\n",
       "    </tr>\n",
       "    <tr>\n",
       "      <th>4</th>\n",
       "      <td>Cape Town</td>\n",
       "      <td>-33.9258</td>\n",
       "      <td>18.4232</td>\n",
       "      <td>21.11</td>\n",
       "      <td>88</td>\n",
       "      <td>20</td>\n",
       "      <td>6.17</td>\n",
       "      <td>ZA</td>\n",
       "      <td>1611638909</td>\n",
       "    </tr>\n",
       "    <tr>\n",
       "      <th>5</th>\n",
       "      <td>Atuona</td>\n",
       "      <td>-9.8000</td>\n",
       "      <td>-139.0333</td>\n",
       "      <td>26.06</td>\n",
       "      <td>75</td>\n",
       "      <td>36</td>\n",
       "      <td>8.30</td>\n",
       "      <td>PF</td>\n",
       "      <td>1611639020</td>\n",
       "    </tr>\n",
       "    <tr>\n",
       "      <th>6</th>\n",
       "      <td>Flinders</td>\n",
       "      <td>-34.5833</td>\n",
       "      <td>150.8552</td>\n",
       "      <td>29.44</td>\n",
       "      <td>61</td>\n",
       "      <td>83</td>\n",
       "      <td>4.02</td>\n",
       "      <td>AU</td>\n",
       "      <td>1611639021</td>\n",
       "    </tr>\n",
       "    <tr>\n",
       "      <th>7</th>\n",
       "      <td>Opuwo</td>\n",
       "      <td>-18.0607</td>\n",
       "      <td>13.8400</td>\n",
       "      <td>19.97</td>\n",
       "      <td>72</td>\n",
       "      <td>26</td>\n",
       "      <td>1.22</td>\n",
       "      <td>NA</td>\n",
       "      <td>1611639010</td>\n",
       "    </tr>\n",
       "    <tr>\n",
       "      <th>...</th>\n",
       "      <td>...</td>\n",
       "      <td>...</td>\n",
       "      <td>...</td>\n",
       "      <td>...</td>\n",
       "      <td>...</td>\n",
       "      <td>...</td>\n",
       "      <td>...</td>\n",
       "      <td>...</td>\n",
       "      <td>...</td>\n",
       "    </tr>\n",
       "    <tr>\n",
       "      <th>523</th>\n",
       "      <td>Kununurra</td>\n",
       "      <td>-15.7667</td>\n",
       "      <td>128.7333</td>\n",
       "      <td>30.00</td>\n",
       "      <td>84</td>\n",
       "      <td>95</td>\n",
       "      <td>3.60</td>\n",
       "      <td>AU</td>\n",
       "      <td>1611639624</td>\n",
       "    </tr>\n",
       "    <tr>\n",
       "      <th>526</th>\n",
       "      <td>Viedma</td>\n",
       "      <td>-40.8135</td>\n",
       "      <td>-62.9967</td>\n",
       "      <td>17.71</td>\n",
       "      <td>61</td>\n",
       "      <td>0</td>\n",
       "      <td>3.00</td>\n",
       "      <td>AR</td>\n",
       "      <td>1611639628</td>\n",
       "    </tr>\n",
       "    <tr>\n",
       "      <th>536</th>\n",
       "      <td>Padang</td>\n",
       "      <td>-0.9492</td>\n",
       "      <td>100.3543</td>\n",
       "      <td>30.00</td>\n",
       "      <td>58</td>\n",
       "      <td>75</td>\n",
       "      <td>2.06</td>\n",
       "      <td>ID</td>\n",
       "      <td>1611639639</td>\n",
       "    </tr>\n",
       "    <tr>\n",
       "      <th>539</th>\n",
       "      <td>Palu</td>\n",
       "      <td>-0.8917</td>\n",
       "      <td>119.8707</td>\n",
       "      <td>30.86</td>\n",
       "      <td>54</td>\n",
       "      <td>71</td>\n",
       "      <td>2.12</td>\n",
       "      <td>ID</td>\n",
       "      <td>1611639643</td>\n",
       "    </tr>\n",
       "    <tr>\n",
       "      <th>542</th>\n",
       "      <td>Perth</td>\n",
       "      <td>-31.9333</td>\n",
       "      <td>115.8333</td>\n",
       "      <td>25.56</td>\n",
       "      <td>47</td>\n",
       "      <td>20</td>\n",
       "      <td>6.69</td>\n",
       "      <td>AU</td>\n",
       "      <td>1611638840</td>\n",
       "    </tr>\n",
       "  </tbody>\n",
       "</table>\n",
       "<p>169 rows × 9 columns</p>\n",
       "</div>"
      ],
      "text/plain": [
       "          City  Latitude  Longitude  Max Temp  Humidity  Cloudiness  \\\n",
       "1    Mahébourg  -20.4081    57.7000     28.00        69          20   \n",
       "4    Cape Town  -33.9258    18.4232     21.11        88          20   \n",
       "5       Atuona   -9.8000  -139.0333     26.06        75          36   \n",
       "6     Flinders  -34.5833   150.8552     29.44        61          83   \n",
       "7        Opuwo  -18.0607    13.8400     19.97        72          26   \n",
       "..         ...       ...        ...       ...       ...         ...   \n",
       "523  Kununurra  -15.7667   128.7333     30.00        84          95   \n",
       "526     Viedma  -40.8135   -62.9967     17.71        61           0   \n",
       "536     Padang   -0.9492   100.3543     30.00        58          75   \n",
       "539       Palu   -0.8917   119.8707     30.86        54          71   \n",
       "542      Perth  -31.9333   115.8333     25.56        47          20   \n",
       "\n",
       "     Wind Speed Country        Date  \n",
       "1          1.54      MU  1611639015  \n",
       "4          6.17      ZA  1611638909  \n",
       "5          8.30      PF  1611639020  \n",
       "6          4.02      AU  1611639021  \n",
       "7          1.22      NA  1611639010  \n",
       "..          ...     ...         ...  \n",
       "523        3.60      AU  1611639624  \n",
       "526        3.00      AR  1611639628  \n",
       "536        2.06      ID  1611639639  \n",
       "539        2.12      ID  1611639643  \n",
       "542        6.69      AU  1611638840  \n",
       "\n",
       "[169 rows x 9 columns]"
      ]
     },
     "execution_count": 196,
     "metadata": {},
     "output_type": "execute_result"
    }
   ],
   "source": [
    "# filter out lattitude rows that are less than 0\n",
    "scolumns = [\"City\", \"Latitude\", \"Longitude\", \"Max Temp\", \"Humidity\", \"Cloudiness\", \"Wind Speed\", \"Country\", \"Date\"]\n",
    "clean_south_df = south_df[south_df['Latitude'] < 0][scolumns]\n",
    "clean_south_df"
   ]
  },
  {
   "cell_type": "markdown",
   "metadata": {},
   "source": [
    "####  Northern Hemisphere - Max Temp vs. Latitude Linear Regression"
   ]
  },
  {
   "cell_type": "code",
   "execution_count": 195,
   "metadata": {},
   "outputs": [
    {
     "name": "stdout",
     "output_type": "stream",
     "text": [
      "The r vale is: -0.8720391877954405\n"
     ]
    },
    {
     "data": {
      "image/png": "[encoded data removed]",
      "text/plain": [
       "<Figure size 720x432 with 1 Axes>"
      ]
     },
     "metadata": {
      "needs_background": "light"
     },
     "output_type": "display_data"
    }
   ],
   "source": [
    "# Calculate the linear regression model for Northern Hemisphere - Max Temp vs. Latitude\n",
    "x_values = clean_north_df[\"Latitude\"]\n",
    "y_values = clean_north_df[\"Max Temp\"]\n",
    "\n",
    "(slope, intercept, rvalue, pvalue, stderr) = linregress(x_values, y_values)\n",
    "regress_values = x_values * slope + intercept\n",
    "line_eq = \"y = \" + str(round(slope,2)) + \"x + \" + str(round(intercept,2))\n",
    "\n",
    "fig1, ax1 = plt.subplots(figsize=(10, 6))\n",
    "plt.scatter(x_values,y_values, color = \"teal\")\n",
    "\n",
    "plt.plot(x_values,regress_values,\"r-\")\n",
    "plt.annotate(line_eq,(10,0),fontsize=15,color=\"red\")\n",
    "plt.xlabel(\"Latitude\")\n",
    "plt.ylabel(\"Max Temp (C)\")\n",
    "plt.title(\"Northern Hemisphere - Max Temp vs. Latitude\")\n",
    "\n",
    "print(f\"The r vale is: {rvalue}\")\n",
    "plt.show()"
   ]
  },
  {
   "cell_type": "markdown",
   "metadata": {},
   "source": [
    "####  Southern Hemisphere - Max Temp vs. Latitude Linear Regression"
   ]
  },
  {
   "cell_type": "code",
   "execution_count": 203,
   "metadata": {},
   "outputs": [
    {
     "name": "stdout",
     "output_type": "stream",
     "text": [
      "The r vale is: 0.3853294364037434\n"
     ]
    },
    {
     "data": {
      "image/png": "[encoded data removed]",
      "text/plain": [
       "<Figure size 720x432 with 1 Axes>"
      ]
     },
     "metadata": {
      "needs_background": "light"
     },
     "output_type": "display_data"
    }
   ],
   "source": [
    "# Calculate the linear regression model for Southern Hemisphere - Max Temp vs. Latitude\n",
    "x_values = clean_south_df[\"Latitude\"]\n",
    "y_values = clean_south_df[\"Max Temp\"]\n",
    "\n",
    "(slope, intercept, rvalue, pvalue, stderr) = linregress(x_values, y_values)\n",
    "regress_values = x_values * slope + intercept\n",
    "line_eq = \"y = \" + str(round(slope,2)) + \"x + \" + str(round(intercept,2))\n",
    "\n",
    "fig1, ax1 = plt.subplots(figsize=(10, 6))\n",
    "plt.scatter(x_values,y_values, color = \"teal\")\n",
    "\n",
    "plt.plot(x_values,regress_values,\"r-\")\n",
    "plt.annotate(line_eq,(-30,15),fontsize=15,color=\"red\")\n",
    "plt.xlabel(\"Latitude\")\n",
    "plt.ylabel(\"Max Temp (C)\")\n",
    "plt.title(\"Southern Hemisphere - Max Temp vs. Latitude\")\n",
    "\n",
    "print(f\"The r vale is: {rvalue}\")\n",
    "plt.show()"
   ]
  },
  {
   "cell_type": "code",
   "execution_count": 237,
   "metadata": {},
   "outputs": [
    {
     "name": "stdout",
     "output_type": "stream",
     "text": [
      "-There is a strong negative correlation of Max Temp and Latitude in the Northern Hemisphere\n",
      "-This could be a result of the proximity to the North Pole\n",
      "-There is a positive correlation of Max Temp and Latitude in the Southern Hemisphere\n",
      "-This could be a result of the current Summer season and temps are warmer as the South Pole is not as close to the continents as the North Pole.\n"
     ]
    }
   ],
   "source": [
    "print(\"-There is a strong negative correlation of Max Temp and Latitude in the Northern Hemisphere\")\n",
    "print(\"-This could be a result of the proximity to the North Pole\")\n",
    "print(\"-There is a positive correlation of Max Temp and Latitude in the Southern Hemisphere\")\n",
    "print(\"-This could be a result of the current Summer season and temps are warmer as the South Pole is not as close to the continents as the North Pole.\")"
   ]
  },
  {
   "cell_type": "markdown",
   "metadata": {},
   "source": [
    "####  Northern Hemisphere - Humidity (%) vs. Latitude Linear Regression"
   ]
  },
  {
   "cell_type": "code",
   "execution_count": 204,
   "metadata": {},
   "outputs": [
    {
     "name": "stdout",
     "output_type": "stream",
     "text": [
      "The r vale is: 0.34166875355112025\n"
     ]
    },
    {
     "data": {
      "image/png": "[encoded data removed]",
      "text/plain": [
       "<Figure size 720x432 with 1 Axes>"
      ]
     },
     "metadata": {
      "needs_background": "light"
     },
     "output_type": "display_data"
    }
   ],
   "source": [
    "# Calculate the linear regression model for Northern Hemisphere - Humidity (%) vs. Latitude\n",
    "x_values = clean_north_df[\"Latitude\"]\n",
    "y_values = clean_north_df[\"Humidity\"]\n",
    "\n",
    "(slope, intercept, rvalue, pvalue, stderr) = linregress(x_values, y_values)\n",
    "regress_values = x_values * slope + intercept\n",
    "line_eq = \"y = \" + str(round(slope,2)) + \"x + \" + str(round(intercept,2))\n",
    "\n",
    "fig1, ax1 = plt.subplots(figsize=(10, 6))\n",
    "plt.scatter(x_values,y_values, color = \"purple\")\n",
    "\n",
    "plt.plot(x_values,regress_values,\"r-\")\n",
    "plt.annotate(line_eq,(50,60),fontsize=15,color=\"red\")\n",
    "plt.xlabel(\"Latitude\")\n",
    "plt.ylabel(\"Humidity (%)\")\n",
    "plt.title(\"Northern Hemisphere - Humidity vs. Latitude\")\n",
    "\n",
    "print(f\"The r vale is: {rvalue}\")\n",
    "plt.show()"
   ]
  },
  {
   "cell_type": "markdown",
   "metadata": {},
   "source": [
    "####  Southern Hemisphere - Humidity (%) vs. Latitude Linear Regression"
   ]
  },
  {
   "cell_type": "code",
   "execution_count": 209,
   "metadata": {},
   "outputs": [
    {
     "name": "stdout",
     "output_type": "stream",
     "text": [
      "The r vale is: 0.3841308582674449\n"
     ]
    },
    {
     "data": {
      "image/png": "[encoded data removed]",
      "text/plain": [
       "<Figure size 720x432 with 1 Axes>"
      ]
     },
     "metadata": {
      "needs_background": "light"
     },
     "output_type": "display_data"
    }
   ],
   "source": [
    "# Calculate the linear regression model for Southern Hemisphere - Humidity (%) vs. Latitude\n",
    "x_values = clean_south_df[\"Latitude\"]\n",
    "y_values = clean_south_df[\"Humidity\"]\n",
    "\n",
    "(slope, intercept, rvalue, pvalue, stderr) = linregress(x_values, y_values)\n",
    "regress_values = x_values * slope + intercept\n",
    "line_eq = \"y = \" + str(round(slope,2)) + \"x + \" + str(round(intercept,2))\n",
    "\n",
    "fig1, ax1 = plt.subplots(figsize=(10, 6))\n",
    "plt.scatter(x_values,y_values, color = \"purple\")\n",
    "\n",
    "plt.plot(x_values,regress_values,\"r-\")\n",
    "plt.annotate(line_eq,(-20,50),fontsize=15,color=\"red\")\n",
    "plt.xlabel(\"Latitude\")\n",
    "plt.ylabel(\"Humidity (%)\")\n",
    "plt.title(\"Southern Hemisphere - Humidity vs. Latitude\")\n",
    "\n",
    "print(f\"The r vale is: {rvalue}\")\n",
    "plt.show()"
   ]
  },
  {
   "cell_type": "code",
   "execution_count": 242,
   "metadata": {},
   "outputs": [
    {
     "name": "stdout",
     "output_type": "stream",
     "text": [
      "-Both Northern and Southern Hemispheres have a positive correlation.\n",
      "-This could be as a result of Winter in the North and Summer in the South\n"
     ]
    }
   ],
   "source": [
    "print(\"-Both Northern and Southern Hemispheres have a positive correlation.\")\n",
    "print(\"-This could be as a result of Winter in the North and Summer in the South\")"
   ]
  },
  {
   "cell_type": "markdown",
   "metadata": {},
   "source": [
    "####  Northern Hemisphere - Cloudiness (%) vs. Latitude Linear Regression"
   ]
  },
  {
   "cell_type": "code",
   "execution_count": 214,
   "metadata": {},
   "outputs": [
    {
     "name": "stdout",
     "output_type": "stream",
     "text": [
      "The r vale is: 0.3108578280720236\n"
     ]
    },
    {
     "data": {
      "image/png": "[encoded data removed]",
      "text/plain": [
       "<Figure size 720x432 with 1 Axes>"
      ]
     },
     "metadata": {
      "needs_background": "light"
     },
     "output_type": "display_data"
    }
   ],
   "source": [
    "# Calculate the linear regression model for Northern Hemisphere - Cloudiness (%) vs. Latitude\n",
    "x_values = clean_north_df[\"Latitude\"]\n",
    "y_values = clean_north_df[\"Cloudiness\"]\n",
    "\n",
    "(slope, intercept, rvalue, pvalue, stderr) = linregress(x_values, y_values)\n",
    "regress_values = x_values * slope + intercept\n",
    "line_eq = \"y = \" + str(round(slope,2)) + \"x + \" + str(round(intercept,2))\n",
    "\n",
    "fig1, ax1 = plt.subplots(figsize=(10, 6))\n",
    "plt.scatter(x_values,y_values, color = \"orange\")\n",
    "\n",
    "plt.plot(x_values,regress_values,\"r-\")\n",
    "plt.annotate(line_eq,(30,45),fontsize=15,color=\"red\")\n",
    "plt.xlabel(\"Latitude\")\n",
    "plt.ylabel(\"Cloudiness (%)\")\n",
    "plt.title(\"Northern Hemisphere - Cloudiness vs. Latitude\")\n",
    "\n",
    "print(f\"The r vale is: {rvalue}\")\n",
    "plt.show()"
   ]
  },
  {
   "cell_type": "markdown",
   "metadata": {},
   "source": [
    "####  Southern Hemisphere - Cloudiness (%) vs. Latitude Linear Regression"
   ]
  },
  {
   "cell_type": "code",
   "execution_count": 226,
   "metadata": {},
   "outputs": [
    {
     "name": "stdout",
     "output_type": "stream",
     "text": [
      "The r vale is: 0.36024647641784185\n"
     ]
    },
    {
     "data": {
      "image/png": "[encoded data removed]",
      "text/plain": [
       "<Figure size 720x432 with 1 Axes>"
      ]
     },
     "metadata": {
      "needs_background": "light"
     },
     "output_type": "display_data"
    }
   ],
   "source": [
    "# Calculate the linear regression model for Southern Hemisphere - Cloudiness (%) vs. Latitude\n",
    "x_values = clean_south_df[\"Latitude\"]\n",
    "y_values = clean_south_df[\"Cloudiness\"]\n",
    "\n",
    "(slope, intercept, rvalue, pvalue, stderr) = linregress(x_values, y_values)\n",
    "regress_values = x_values * slope + intercept\n",
    "line_eq = \"y = \" + str(round(slope,2)) + \"x + \" + str(round(intercept,2))\n",
    "\n",
    "fig1, ax1 = plt.subplots(figsize=(10, 6))\n",
    "plt.scatter(x_values,y_values, color = \"orange\")\n",
    "\n",
    "plt.plot(x_values,regress_values,\"r-\")\n",
    "plt.annotate(line_eq,(-40,60),fontsize=15,color=\"red\")\n",
    "plt.xlabel(\"Latitude\")\n",
    "plt.ylabel(\"Cloudiness (%)\")\n",
    "plt.title(\"Southern Hemisphere - Cloudiness vs. Latitude\")\n",
    "\n",
    "print(f\"The r vale is: {rvalue}\")\n",
    "plt.show()"
   ]
  },
  {
   "cell_type": "code",
   "execution_count": 244,
   "metadata": {},
   "outputs": [
    {
     "name": "stdout",
     "output_type": "stream",
     "text": [
      "-Although there seems to be a positive correlation in the North and South regarding cloudiness, this isn't necessarily accurate as the data is quite visibly scattered.\n"
     ]
    }
   ],
   "source": [
    "print(\"-Although there seems to be a positive correlation in the North and South regarding cloudiness, this isn't necessarily accurate as the data is quite visibly scattered.\")"
   ]
  },
  {
   "cell_type": "markdown",
   "metadata": {},
   "source": [
    "####  Northern Hemisphere - Wind Speed (mph) vs. Latitude Linear Regression"
   ]
  },
  {
   "cell_type": "code",
   "execution_count": 223,
   "metadata": {},
   "outputs": [
    {
     "name": "stdout",
     "output_type": "stream",
     "text": [
      "The r vale is: 0.11169369525089057\n"
     ]
    },
    {
     "data": {
      "image/png": "[encoded data removed]",
      "text/plain": [
       "<Figure size 720x432 with 1 Axes>"
      ]
     },
     "metadata": {
      "needs_background": "light"
     },
     "output_type": "display_data"
    }
   ],
   "source": [
    "# Calculate the linear regression model for Northern Hemisphere - Wind Speed (mph) vs. Latitude\n",
    "x_values = clean_north_df[\"Latitude\"]\n",
    "y_values = clean_north_df[\"Wind Speed\"]\n",
    "\n",
    "(slope, intercept, rvalue, pvalue, stderr) = linregress(x_values, y_values)\n",
    "regress_values = x_values * slope + intercept\n",
    "line_eq = \"y = \" + str(round(slope,2)) + \"x + \" + str(round(intercept,2))\n",
    "\n",
    "fig1, ax1 = plt.subplots(figsize=(10, 6))\n",
    "plt.scatter(x_values,y_values, color = \"cyan\")\n",
    "\n",
    "plt.plot(x_values,regress_values,\"r-\")\n",
    "plt.annotate(line_eq,(15,5),fontsize=15,color=\"red\")\n",
    "plt.xlabel(\"Latitude\")\n",
    "plt.ylabel(\"Wind Speed (mph)\")\n",
    "plt.title(\"Northern Hemisphere - Wind Speed (mph) vs. Latitude\")\n",
    "\n",
    "print(f\"The r vale is: {rvalue}\")\n",
    "plt.show()"
   ]
  },
  {
   "cell_type": "markdown",
   "metadata": {},
   "source": [
    "####  Southern Hemisphere - Wind Speed (mph) vs. Latitude Linear Regression"
   ]
  },
  {
   "cell_type": "code",
   "execution_count": 221,
   "metadata": {},
   "outputs": [
    {
     "name": "stdout",
     "output_type": "stream",
     "text": [
      "The r vale is: -0.4245223807382023\n"
     ]
    },
    {
     "data": {
      "image/png": "[encoded data removed]",
      "text/plain": [
       "<Figure size 720x432 with 1 Axes>"
      ]
     },
     "metadata": {
      "needs_background": "light"
     },
     "output_type": "display_data"
    }
   ],
   "source": [
    "# Calculate the linear regression model for Southern Hemisphere - Wind Speed (mph) vs. Latitude\n",
    "x_values = clean_south_df[\"Latitude\"]\n",
    "y_values = clean_south_df[\"Wind Speed\"]\n",
    "\n",
    "(slope, intercept, rvalue, pvalue, stderr) = linregress(x_values, y_values)\n",
    "regress_values = x_values * slope + intercept\n",
    "line_eq = \"y = \" + str(round(slope,2)) + \"x + \" + str(round(intercept,2))\n",
    "\n",
    "fig1, ax1 = plt.subplots(figsize=(10, 6))\n",
    "plt.scatter(x_values,y_values, color = \"cyan\")\n",
    "\n",
    "plt.plot(x_values,regress_values,\"r-\")\n",
    "plt.annotate(line_eq,(-36,3),fontsize=15,color=\"red\")\n",
    "plt.xlabel(\"Latitude\")\n",
    "plt.ylabel(\"Wind Speed (mph)\")\n",
    "plt.title(\"Southern Hemisphere - Wind Speed (mph) vs. Latitude\")\n",
    "\n",
    "print(f\"The r vale is: {rvalue}\")\n",
    "plt.show()"
   ]
  },
  {
   "cell_type": "code",
   "execution_count": 245,
   "metadata": {},
   "outputs": [
    {
     "name": "stdout",
     "output_type": "stream",
     "text": [
      "-Wind speed in the North has a weak positive correlation and a slihtly stronger negative correlation in the South.\n",
      "-We can see from the graph that in the Southern Hemisphere, it wind speed picks up the closer we move towards the equator.\n"
     ]
    }
   ],
   "source": [
    "print(\"-Wind speed in the North has a weak positive correlation and a slihtly stronger negative correlation in the South.\")\n",
    "print(\"-We can see from the graph that in the Southern Hemisphere, it wind speed picks up the closer we move towards the equator.\")"
   ]
  }
 ],
 "metadata": {
  "anaconda-cloud": {},
  "kernel_info": {
   "name": "python3"
  },
  "kernelspec": {
   "display_name": "Python 3",
   "language": "python",
   "name": "python3"
  },
  "language_info": {
   "codemirror_mode": {
    "name": "ipython",
    "version": 3
   },
   "file_extension": ".py",
   "mimetype": "text/x-python",
   "name": "python",
   "nbconvert_exporter": "python",
   "pygments_lexer": "ipython3",
   "version": "3.8.5"
  },
  "latex_envs": {
   "LaTeX_envs_menu_present": true,
   "autoclose": false,
   "autocomplete": true,
   "bibliofile": "biblio.bib",
   "cite_by": "apalike",
   "current_citInitial": 1,
   "eqLabelWithNumbers": true,
   "eqNumInitial": 1,
   "hotkeys": {
    "equation": "Ctrl-E",
    "itemize": "Ctrl-I"
   },
   "labels_anchors": false,
   "latex_user_defs": false,
   "report_style_numbering": false,
   "user_envs_cfg": false
  },
  "nteract": {
   "version": "0.12.3"
  }
 },
 "nbformat": 4,
 "nbformat_minor": 4
}
