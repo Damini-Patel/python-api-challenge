{
 "cells": [
  {
   "cell_type": "markdown",
   "metadata": {},
   "source": [
    "# VacationPy\n",
    "----\n",
    "\n",
    "#### Note\n",
    "* Keep an eye on your API usage. Use https://developers.google.com/maps/reporting/gmp-reporting as reference for how to monitor your usage and billing.\n",
    "\n",
    "* Instructions have been included for each segment. You do not have to follow them exactly, but they are included to help you think through the steps."
   ]
  },
  {
   "cell_type": "code",
   "execution_count": 1,
   "metadata": {},
   "outputs": [],
   "source": [
    "# Dependencies and Setup\n",
    "import matplotlib.pyplot as plt\n",
    "import pandas as pd\n",
    "import numpy as np\n",
    "import requests\n",
    "import gmaps\n",
    "import os\n",
    "import time\n",
    "\n",
    "# Import API key\n",
    "from config import g_key"
   ]
  },
  {
   "cell_type": "markdown",
   "metadata": {},
   "source": [
    "### Store Part I results into DataFrame\n",
    "* Load the csv exported in Part I to a DataFrame"
   ]
  },
  {
   "cell_type": "code",
   "execution_count": 2,
   "metadata": {},
   "outputs": [
    {
     "output_type": "execute_result",
     "data": {
      "text/plain": [
       "            City  Latitude  Longitude  Max Temp  Humidity  Cloudiness  \\\n",
       "0      Ostrovnoy   68.0531    39.5131    -10.33        95         100   \n",
       "1      Mahébourg  -20.4081    57.7000     28.00        69          20   \n",
       "2        Qaanaaq   77.4840   -69.3632    -16.39        65           0   \n",
       "3         Zhuhai   22.2769   113.5678     26.11        73          20   \n",
       "4      Cape Town  -33.9258    18.4232     21.11        88          20   \n",
       "..           ...       ...        ...       ...       ...         ...   \n",
       "543       Yabrūd   33.9674    36.6574      2.78        80           0   \n",
       "544      Paraíso    9.8383   -83.8656     21.00        73           0   \n",
       "545      Verāval   20.9000    70.3667     24.60        21           0   \n",
       "546  Novyy Urgal   51.0736   132.5642    -15.58        91         100   \n",
       "547      Tongren   27.7172   109.1853      7.44        75         100   \n",
       "\n",
       "     Wind Speed Country        Date  \n",
       "0          6.69      RU  1611639014  \n",
       "1          1.54      MU  1611639015  \n",
       "2          3.56      GL  1611639017  \n",
       "3          2.57      CN  1611639003  \n",
       "4          6.17      ZA  1611638909  \n",
       "..          ...     ...         ...  \n",
       "543        0.28      SY  1611639647  \n",
       "544        5.14      CR  1611639649  \n",
       "545        3.73      IN  1611639350  \n",
       "546        0.24      RU  1611639651  \n",
       "547        1.59      CN  1611639652  \n",
       "\n",
       "[548 rows x 9 columns]"
      ],
      "text/html": "<div>\n<style scoped>\n    .dataframe tbody tr th:only-of-type {\n        vertical-align: middle;\n    }\n\n    .dataframe tbody tr th {\n        vertical-align: top;\n    }\n\n    .dataframe thead th {\n        text-align: right;\n    }\n</style>\n<table border=\"1\" class=\"dataframe\">\n  <thead>\n    <tr style=\"text-align: right;\">\n      <th></th>\n      <th>City</th>\n      <th>Latitude</th>\n      <th>Longitude</th>\n      <th>Max Temp</th>\n      <th>Humidity</th>\n      <th>Cloudiness</th>\n      <th>Wind Speed</th>\n      <th>Country</th>\n      <th>Date</th>\n    </tr>\n  </thead>\n  <tbody>\n    <tr>\n      <th>0</th>\n      <td>Ostrovnoy</td>\n      <td>68.0531</td>\n      <td>39.5131</td>\n      <td>-10.33</td>\n      <td>95</td>\n      <td>100</td>\n      <td>6.69</td>\n      <td>RU</td>\n      <td>1611639014</td>\n    </tr>\n    <tr>\n      <th>1</th>\n      <td>Mahébourg</td>\n      <td>-20.4081</td>\n      <td>57.7000</td>\n      <td>28.00</td>\n      <td>69</td>\n      <td>20</td>\n      <td>1.54</td>\n      <td>MU</td>\n      <td>1611639015</td>\n    </tr>\n    <tr>\n      <th>2</th>\n      <td>Qaanaaq</td>\n      <td>77.4840</td>\n      <td>-69.3632</td>\n      <td>-16.39</td>\n      <td>65</td>\n      <td>0</td>\n      <td>3.56</td>\n      <td>GL</td>\n      <td>1611639017</td>\n    </tr>\n    <tr>\n      <th>3</th>\n      <td>Zhuhai</td>\n      <td>22.2769</td>\n      <td>113.5678</td>\n      <td>26.11</td>\n      <td>73</td>\n      <td>20</td>\n      <td>2.57</td>\n      <td>CN</td>\n      <td>1611639003</td>\n    </tr>\n    <tr>\n      <th>4</th>\n      <td>Cape Town</td>\n      <td>-33.9258</td>\n      <td>18.4232</td>\n      <td>21.11</td>\n      <td>88</td>\n      <td>20</td>\n      <td>6.17</td>\n      <td>ZA</td>\n      <td>1611638909</td>\n    </tr>\n    <tr>\n      <th>...</th>\n      <td>...</td>\n      <td>...</td>\n      <td>...</td>\n      <td>...</td>\n      <td>...</td>\n      <td>...</td>\n      <td>...</td>\n      <td>...</td>\n      <td>...</td>\n    </tr>\n    <tr>\n      <th>543</th>\n      <td>Yabrūd</td>\n      <td>33.9674</td>\n      <td>36.6574</td>\n      <td>2.78</td>\n      <td>80</td>\n      <td>0</td>\n      <td>0.28</td>\n      <td>SY</td>\n      <td>1611639647</td>\n    </tr>\n    <tr>\n      <th>544</th>\n      <td>Paraíso</td>\n      <td>9.8383</td>\n      <td>-83.8656</td>\n      <td>21.00</td>\n      <td>73</td>\n      <td>0</td>\n      <td>5.14</td>\n      <td>CR</td>\n      <td>1611639649</td>\n    </tr>\n    <tr>\n      <th>545</th>\n      <td>Verāval</td>\n      <td>20.9000</td>\n      <td>70.3667</td>\n      <td>24.60</td>\n      <td>21</td>\n      <td>0</td>\n      <td>3.73</td>\n      <td>IN</td>\n      <td>1611639350</td>\n    </tr>\n    <tr>\n      <th>546</th>\n      <td>Novyy Urgal</td>\n      <td>51.0736</td>\n      <td>132.5642</td>\n      <td>-15.58</td>\n      <td>91</td>\n      <td>100</td>\n      <td>0.24</td>\n      <td>RU</td>\n      <td>1611639651</td>\n    </tr>\n    <tr>\n      <th>547</th>\n      <td>Tongren</td>\n      <td>27.7172</td>\n      <td>109.1853</td>\n      <td>7.44</td>\n      <td>75</td>\n      <td>100</td>\n      <td>1.59</td>\n      <td>CN</td>\n      <td>1611639652</td>\n    </tr>\n  </tbody>\n</table>\n<p>548 rows × 9 columns</p>\n</div>"
     },
     "metadata": {},
     "execution_count": 2
    }
   ],
   "source": [
    "# get data file\n",
    "csv_file = \"../output_data/weather_data.csv\"\n",
    "\n",
    "# Read in the csv file\n",
    "file_df = pd.read_csv(csv_file)\n",
    "file_df"
   ]
  },
  {
   "cell_type": "markdown",
   "metadata": {},
   "source": [
    "### Humidity Heatmap\n",
    "* Configure gmaps.\n",
    "* Use the Lat and Lng as locations and Humidity as the weight.\n",
    "* Add Heatmap layer to map."
   ]
  },
  {
   "cell_type": "code",
   "execution_count": 3,
   "metadata": {},
   "outputs": [],
   "source": [
    "# access maps with unique API key\n",
    "gmaps.configure(api_key=g_key)"
   ]
  },
  {
   "cell_type": "code",
   "execution_count": 4,
   "metadata": {},
   "outputs": [],
   "source": [
    "# create variables to hold location and heat weight\n",
    "locations = file_df[[\"Latitude\", \"Longitude\"]]\n",
    "weight = file_df[\"Humidity\"]"
   ]
  },
  {
   "cell_type": "code",
   "execution_count": 8,
   "metadata": {},
   "outputs": [
    {
     "output_type": "display_data",
     "data": {
      "text/plain": "Figure(layout=FigureLayout(height='420px'))",
      "application/vnd.jupyter.widget-view+json": {
       "version_major": 2,
       "version_minor": 0,
       "model_id": "c44e35b59456450fa99696c78a294484"
      }
     },
     "metadata": {}
    }
   ],
   "source": [
    "# create map\n",
    "fig = gmaps.figure(center=(46.0, -5.0), zoom_level=2)\n",
    "\n",
    "# add heat layer\n",
    "fig.add_layer(gmaps.heatmap_layer(locations, weights = weight, max_intensity = 100))\n",
    "fig"
   ]
  },
  {
   "cell_type": "code",
   "execution_count": null,
   "metadata": {},
   "outputs": [],
   "source": []
  },
  {
   "cell_type": "markdown",
   "metadata": {},
   "source": [
    "### Create new DataFrame fitting weather criteria\n",
    "* Narrow down the cities to fit weather conditions.\n",
    "* Drop any rows will null values."
   ]
  },
  {
   "cell_type": "code",
   "execution_count": 9,
   "metadata": {},
   "outputs": [
    {
     "output_type": "execute_result",
     "data": {
      "text/plain": [
       "                 City  Latitude  Longitude  Max Temp  Humidity  Cloudiness  \\\n",
       "247  Puerto Escondido   15.8500   -97.0667     25.20        61           0   \n",
       "502             Chauk   20.8833    94.8167     29.01        29           0   \n",
       "507     Graaff-Reinet  -32.2522    24.5308     26.81        42           0   \n",
       "514            Loikaw   19.6742    97.2094     29.41        22           0   \n",
       "\n",
       "     Wind Speed Country        Date  \n",
       "247        1.85      MX  1611639301  \n",
       "502        2.37      MM  1611639599  \n",
       "507        1.73      ZA  1611639605  \n",
       "514        1.62      MM  1611639613  "
      ],
      "text/html": "<div>\n<style scoped>\n    .dataframe tbody tr th:only-of-type {\n        vertical-align: middle;\n    }\n\n    .dataframe tbody tr th {\n        vertical-align: top;\n    }\n\n    .dataframe thead th {\n        text-align: right;\n    }\n</style>\n<table border=\"1\" class=\"dataframe\">\n  <thead>\n    <tr style=\"text-align: right;\">\n      <th></th>\n      <th>City</th>\n      <th>Latitude</th>\n      <th>Longitude</th>\n      <th>Max Temp</th>\n      <th>Humidity</th>\n      <th>Cloudiness</th>\n      <th>Wind Speed</th>\n      <th>Country</th>\n      <th>Date</th>\n    </tr>\n  </thead>\n  <tbody>\n    <tr>\n      <th>247</th>\n      <td>Puerto Escondido</td>\n      <td>15.8500</td>\n      <td>-97.0667</td>\n      <td>25.20</td>\n      <td>61</td>\n      <td>0</td>\n      <td>1.85</td>\n      <td>MX</td>\n      <td>1611639301</td>\n    </tr>\n    <tr>\n      <th>502</th>\n      <td>Chauk</td>\n      <td>20.8833</td>\n      <td>94.8167</td>\n      <td>29.01</td>\n      <td>29</td>\n      <td>0</td>\n      <td>2.37</td>\n      <td>MM</td>\n      <td>1611639599</td>\n    </tr>\n    <tr>\n      <th>507</th>\n      <td>Graaff-Reinet</td>\n      <td>-32.2522</td>\n      <td>24.5308</td>\n      <td>26.81</td>\n      <td>42</td>\n      <td>0</td>\n      <td>1.73</td>\n      <td>ZA</td>\n      <td>1611639605</td>\n    </tr>\n    <tr>\n      <th>514</th>\n      <td>Loikaw</td>\n      <td>19.6742</td>\n      <td>97.2094</td>\n      <td>29.41</td>\n      <td>22</td>\n      <td>0</td>\n      <td>1.62</td>\n      <td>MM</td>\n      <td>1611639613</td>\n    </tr>\n  </tbody>\n</table>\n</div>"
     },
     "metadata": {},
     "execution_count": 9
    }
   ],
   "source": [
    "# create new dataframe for cities with ideal weather conditions\n",
    "holiday_df = file_df.loc[(file_df[\"Wind Speed\"] <= 3) & (file_df[\"Cloudiness\"] == 0) & \n",
    "                                    (file_df[\"Max Temp\"] >= 25) & (file_df[\"Max Temp\"] <= 30)].dropna()\n",
    "\n",
    "holiday_df"
   ]
  },
  {
   "cell_type": "markdown",
   "metadata": {},
   "source": [
    "### Hotel Map\n",
    "* Store into variable named `hotel_df`.\n",
    "* Add a \"Hotel Name\" column to the DataFrame.\n",
    "* Set parameters to search for hotels with 5000 meters.\n",
    "* Hit the Google Places API for each city's coordinates.\n",
    "* Store the first Hotel result into the DataFrame.\n",
    "* Plot markers on top of the heatmap."
   ]
  },
  {
   "cell_type": "code",
   "execution_count": 10,
   "metadata": {},
   "outputs": [
    {
     "output_type": "execute_result",
     "data": {
      "text/plain": [
       "                 City Country  Latitude  Longitude Hotel Name\n",
       "247  Puerto Escondido      MX   15.8500   -97.0667           \n",
       "502             Chauk      MM   20.8833    94.8167           \n",
       "507     Graaff-Reinet      ZA  -32.2522    24.5308           \n",
       "514            Loikaw      MM   19.6742    97.2094           "
      ],
      "text/html": "<div>\n<style scoped>\n    .dataframe tbody tr th:only-of-type {\n        vertical-align: middle;\n    }\n\n    .dataframe tbody tr th {\n        vertical-align: top;\n    }\n\n    .dataframe thead th {\n        text-align: right;\n    }\n</style>\n<table border=\"1\" class=\"dataframe\">\n  <thead>\n    <tr style=\"text-align: right;\">\n      <th></th>\n      <th>City</th>\n      <th>Country</th>\n      <th>Latitude</th>\n      <th>Longitude</th>\n      <th>Hotel Name</th>\n    </tr>\n  </thead>\n  <tbody>\n    <tr>\n      <th>247</th>\n      <td>Puerto Escondido</td>\n      <td>MX</td>\n      <td>15.8500</td>\n      <td>-97.0667</td>\n      <td></td>\n    </tr>\n    <tr>\n      <th>502</th>\n      <td>Chauk</td>\n      <td>MM</td>\n      <td>20.8833</td>\n      <td>94.8167</td>\n      <td></td>\n    </tr>\n    <tr>\n      <th>507</th>\n      <td>Graaff-Reinet</td>\n      <td>ZA</td>\n      <td>-32.2522</td>\n      <td>24.5308</td>\n      <td></td>\n    </tr>\n    <tr>\n      <th>514</th>\n      <td>Loikaw</td>\n      <td>MM</td>\n      <td>19.6742</td>\n      <td>97.2094</td>\n      <td></td>\n    </tr>\n  </tbody>\n</table>\n</div>"
     },
     "metadata": {},
     "execution_count": 10
    }
   ],
   "source": [
    "# create hotel_df\n",
    "hotel_df = holiday_df.loc[:,[\"City\",\"Country\", \"Latitude\", \"Longitude\"]]\n",
    "\n",
    "# add new hotel column to dataframe\n",
    "hotel_df[\"Hotel Name\"] = \"\"\n",
    "hotel_df"
   ]
  },
  {
   "cell_type": "code",
   "execution_count": 11,
   "metadata": {},
   "outputs": [],
   "source": [
    "# set up a parameters dictionary\n",
    "params = {\n",
    "    \"keyword\": \"hotel\",\n",
    "    \"radius\": 5000,\n",
    "    \"type\": \"hotel\",\n",
    "    \"key\": g_key\n",
    "}"
   ]
  },
  {
   "cell_type": "code",
   "execution_count": 12,
   "metadata": {},
   "outputs": [],
   "source": [
    "# base url\n",
    "base_url = \"https://maps.googleapis.com/maps/api/place/nearbysearch/json\""
   ]
  },
  {
   "cell_type": "code",
   "execution_count": 14,
   "metadata": {},
   "outputs": [
    {
     "output_type": "stream",
     "name": "stdout",
     "text": [
      "Retrieving Results for: Puerto Escondido\n",
      "The closest hotel in Puerto Escondido is Selina Puerto Escondido.\n",
      "Retrieving Results for: Chauk\n",
      "The closest hotel in Chauk is Bo Khin Guest House.\n",
      "Retrieving Results for: Graaff-Reinet\n",
      "The closest hotel in Graaff-Reinet is Drostdy Hotel.\n",
      "Retrieving Results for: Loikaw\n",
      "The closest hotel in Loikaw is Kayah Land Hotel.\n"
     ]
    }
   ],
   "source": [
    "# loop through data frame indexes to get closest hotel\n",
    "for index, row in hotel_df.iterrows():\n",
    "    \n",
    "    # get city name, lat, lnt from df\n",
    "    city_name = row[\"City\"]\n",
    "    lat = row[\"Latitude\"]\n",
    "    lng = row[\"Longitude\"]\n",
    "    \n",
    "    # add keyword to params dic\n",
    "    params[\"location\"] = f\"{lat},{lng}\"\n",
    "\n",
    "    # complete url and make API request\n",
    "    print(f\"Retrieving Results for: {city_name}\")\n",
    "    response = requests.get(base_url, params=params).json()\n",
    "    \n",
    "    # extract results\n",
    "    results = response[\"results\"]\n",
    "    \n",
    "    # try save the hotel name (if there is one) to dataframe\n",
    "    try:\n",
    "        print(f\"The closest hotel in {city_name} is {results[0]['name']}.\")\n",
    "        hotel_df.loc[index, \"Hotel Name\"] = results[0]['name']\n",
    "\n",
    "    # if there is no hotel available, let me know\n",
    "    except (KeyError, IndexError):\n",
    "        print(\"Not available... skipping.\")\n",
    "    \n",
    "    # Wait 1 sec to make another api request to avoid SSL Error\n",
    "    time.sleep(1)"
   ]
  },
  {
   "cell_type": "code",
   "execution_count": 15,
   "metadata": {},
   "outputs": [
    {
     "output_type": "execute_result",
     "data": {
      "text/plain": [
       "                 City Country  Latitude  Longitude               Hotel Name\n",
       "247  Puerto Escondido      MX   15.8500   -97.0667  Selina Puerto Escondido\n",
       "502             Chauk      MM   20.8833    94.8167      Bo Khin Guest House\n",
       "507     Graaff-Reinet      ZA  -32.2522    24.5308            Drostdy Hotel\n",
       "514            Loikaw      MM   19.6742    97.2094         Kayah Land Hotel"
      ],
      "text/html": "<div>\n<style scoped>\n    .dataframe tbody tr th:only-of-type {\n        vertical-align: middle;\n    }\n\n    .dataframe tbody tr th {\n        vertical-align: top;\n    }\n\n    .dataframe thead th {\n        text-align: right;\n    }\n</style>\n<table border=\"1\" class=\"dataframe\">\n  <thead>\n    <tr style=\"text-align: right;\">\n      <th></th>\n      <th>City</th>\n      <th>Country</th>\n      <th>Latitude</th>\n      <th>Longitude</th>\n      <th>Hotel Name</th>\n    </tr>\n  </thead>\n  <tbody>\n    <tr>\n      <th>247</th>\n      <td>Puerto Escondido</td>\n      <td>MX</td>\n      <td>15.8500</td>\n      <td>-97.0667</td>\n      <td>Selina Puerto Escondido</td>\n    </tr>\n    <tr>\n      <th>502</th>\n      <td>Chauk</td>\n      <td>MM</td>\n      <td>20.8833</td>\n      <td>94.8167</td>\n      <td>Bo Khin Guest House</td>\n    </tr>\n    <tr>\n      <th>507</th>\n      <td>Graaff-Reinet</td>\n      <td>ZA</td>\n      <td>-32.2522</td>\n      <td>24.5308</td>\n      <td>Drostdy Hotel</td>\n    </tr>\n    <tr>\n      <th>514</th>\n      <td>Loikaw</td>\n      <td>MM</td>\n      <td>19.6742</td>\n      <td>97.2094</td>\n      <td>Kayah Land Hotel</td>\n    </tr>\n  </tbody>\n</table>\n</div>"
     },
     "metadata": {},
     "execution_count": 15
    }
   ],
   "source": [
    "# check dataframe is correct\n",
    "hotel_df"
   ]
  },
  {
   "cell_type": "code",
   "execution_count": 16,
   "metadata": {},
   "outputs": [],
   "source": [
    "# NOTE: Do not change any of the code in this cell\n",
    "\n",
    "# Using the template add the hotel marks to the heatmap\n",
    "info_box_template = \"\"\"\n",
    "<dl>\n",
    "<dt>Name</dt><dd>{Hotel Name}</dd>\n",
    "<dt>City</dt><dd>{City}</dd>\n",
    "<dt>Country</dt><dd>{Country}</dd>\n",
    "</dl>\n",
    "\"\"\"\n",
    "# Store the DataFrame Row\n",
    "# NOTE: be sure to update with your DataFrame name\n",
    "hotel_info = [info_box_template.format(**row) for index, row in hotel_df.iterrows()]\n",
    "locations = hotel_df[[\"Latitude\", \"Longitude\"]]"
   ]
  },
  {
   "cell_type": "code",
   "execution_count": 17,
   "metadata": {},
   "outputs": [
    {
     "output_type": "display_data",
     "data": {
      "text/plain": "Figure(layout=FigureLayout(height='420px'))",
      "application/vnd.jupyter.widget-view+json": {
       "version_major": 2,
       "version_minor": 0,
       "model_id": "c44e35b59456450fa99696c78a294484"
      }
     },
     "metadata": {}
    }
   ],
   "source": [
    "# Add marker layer and info box content ontop of heat map\n",
    "markers = gmaps.marker_layer(locations, info_box_content = hotel_info)\n",
    "\n",
    "# Add the layer to the map\n",
    "fig.add_layer(markers)\n",
    "\n",
    "# Display Map\n",
    "fig"
   ]
  },
  {
   "cell_type": "code",
   "execution_count": null,
   "metadata": {},
   "outputs": [],
   "source": []
  }
 ],
 "metadata": {
  "kernelspec": {
   "display_name": "Python 3",
   "language": "python",
   "name": "python3"
  },
  "language_info": {
   "codemirror_mode": {
    "name": "ipython",
    "version": 3
   },
   "file_extension": ".py",
   "mimetype": "text/x-python",
   "name": "python",
   "nbconvert_exporter": "python",
   "pygments_lexer": "ipython3",
   "version": "3.8.5-final"
  },
  "latex_envs": {
   "LaTeX_envs_menu_present": true,
   "autoclose": false,
   "autocomplete": true,
   "bibliofile": "biblio.bib",
   "cite_by": "apalike",
   "current_citInitial": 1,
   "eqLabelWithNumbers": true,
   "eqNumInitial": 1,
   "hotkeys": {
    "equation": "Ctrl-E",
    "itemize": "Ctrl-I"
   },
   "labels_anchors": false,
   "latex_user_defs": false,
   "report_style_numbering": false,
   "user_envs_cfg": false
  }
 },
 "nbformat": 4,
 "nbformat_minor": 4
}